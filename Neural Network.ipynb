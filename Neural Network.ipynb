{
 "cells": [
  {
   "cell_type": "code",
   "execution_count": 40,
   "metadata": {},
   "outputs": [],
   "source": [
    "import pandas as pd\n",
    "import numpy as np\n",
    "import matplotlib.pyplot as plt\n",
    "import seaborn as sns\n",
    "import tensorflow as tf\n",
    "from math import sqrt\n",
    "from tensorflow import keras\n",
    "from sklearn.model_selection import train_test_split\n",
    "from sklearn.preprocessing import StandardScaler\n",
    "from sklearn.metrics import r2_score"
   ]
  },
  {
   "cell_type": "code",
   "execution_count": 2,
   "metadata": {},
   "outputs": [],
   "source": [
    "#preprocessing\n",
    "data_orig = pd.read_csv('OnlineNewsPopularity.csv', sep=', ')\n",
    "data_orig = data_orig.dropna()\n",
    "\n",
    "#remove awful outlier 31038\n",
    "data_orig.drop(31038, axis=0, inplace=True)\n",
    "\n",
    "columns = list(data_orig)\n",
    "bestindex = [7, 18, 24, 26, 27, 28, 29, 30, 41, 42]\n",
    "bestcol = [columns[i] for i in bestindex]\n",
    "\n",
    "data = data_orig[bestcol].to_numpy()\n",
    "\n",
    "samples = data\n",
    "classes = data_orig[\"shares\"].to_numpy()\n",
    "\n",
    "samples = np.asarray(samples).astype(np.float32)\n",
    "classes = np.asarray(classes).astype(np.float32)\n",
    "\n",
    "X_train_full, X_test, y_train_full, y_test = train_test_split(samples, classes)\n",
    "X_train, X_valid, y_train, y_valid = train_test_split(X_train_full, y_train_full)\n",
    "\n",
    "scaler = StandardScaler()\n",
    "X_train = scaler.fit_transform(X_train)\n",
    "X_valid = scaler.transform(X_valid)\n",
    "X_test = scaler.transform(X_test)"
   ]
  },
  {
   "cell_type": "code",
   "execution_count": 3,
   "metadata": {},
   "outputs": [
    {
     "output_type": "stream",
     "name": "stdout",
     "text": [
      "Epoch 1/50\n",
      "697/697 [==============================] - 1s 817us/step - loss: 120215992.0000 - val_loss: 257394736.0000\n",
      "Epoch 2/50\n",
      "697/697 [==============================] - 0s 616us/step - loss: 119703824.0000 - val_loss: 257238016.0000\n",
      "Epoch 3/50\n",
      "697/697 [==============================] - 0s 671us/step - loss: 119727000.0000 - val_loss: 257190832.0000\n",
      "Epoch 4/50\n",
      "697/697 [==============================] - 1s 751us/step - loss: 119796976.0000 - val_loss: 256763728.0000\n",
      "Epoch 5/50\n",
      "697/697 [==============================] - 0s 681us/step - loss: 119604976.0000 - val_loss: 257118256.0000\n",
      "Epoch 6/50\n",
      "697/697 [==============================] - 0s 619us/step - loss: 119647440.0000 - val_loss: 256737360.0000\n",
      "Epoch 7/50\n",
      "697/697 [==============================] - 0s 656us/step - loss: 119741888.0000 - val_loss: 257092256.0000\n",
      "Epoch 8/50\n",
      "697/697 [==============================] - 0s 616us/step - loss: 119732752.0000 - val_loss: 256774176.0000\n",
      "Epoch 9/50\n",
      "697/697 [==============================] - 0s 624us/step - loss: 119623320.0000 - val_loss: 257123552.0000\n",
      "Epoch 10/50\n",
      "697/697 [==============================] - 0s 626us/step - loss: 119757640.0000 - val_loss: 256525472.0000\n",
      "Epoch 11/50\n",
      "697/697 [==============================] - 1s 719us/step - loss: 119545872.0000 - val_loss: 257055664.0000\n",
      "Epoch 12/50\n",
      "697/697 [==============================] - 1s 734us/step - loss: 119582744.0000 - val_loss: 257304992.0000\n",
      "Epoch 13/50\n",
      "697/697 [==============================] - 0s 707us/step - loss: 119592976.0000 - val_loss: 256895376.0000\n",
      "Epoch 14/50\n",
      "697/697 [==============================] - 1s 719us/step - loss: 119601792.0000 - val_loss: 256809072.0000\n",
      "Epoch 15/50\n",
      "697/697 [==============================] - 0s 648us/step - loss: 119695848.0000 - val_loss: 257222560.0000\n",
      "Epoch 16/50\n",
      "697/697 [==============================] - 0s 625us/step - loss: 119699128.0000 - val_loss: 256998032.0000\n",
      "Epoch 17/50\n",
      "697/697 [==============================] - 0s 644us/step - loss: 119619376.0000 - val_loss: 256542400.0000\n",
      "Epoch 18/50\n",
      "697/697 [==============================] - 0s 624us/step - loss: 119590976.0000 - val_loss: 256863984.0000\n",
      "Epoch 19/50\n",
      "697/697 [==============================] - 0s 621us/step - loss: 119629152.0000 - val_loss: 256834608.0000\n",
      "Epoch 20/50\n",
      "697/697 [==============================] - 0s 623us/step - loss: 119596536.0000 - val_loss: 256745520.0000\n",
      "Epoch 21/50\n",
      "697/697 [==============================] - 0s 616us/step - loss: 119646920.0000 - val_loss: 256911984.0000\n",
      "Epoch 22/50\n",
      "697/697 [==============================] - 0s 620us/step - loss: 119556888.0000 - val_loss: 256821904.0000\n",
      "Epoch 23/50\n",
      "697/697 [==============================] - 0s 618us/step - loss: 119571520.0000 - val_loss: 256484464.0000\n",
      "Epoch 24/50\n",
      "697/697 [==============================] - 0s 631us/step - loss: 119762896.0000 - val_loss: 256667232.0000\n",
      "Epoch 25/50\n",
      "697/697 [==============================] - 0s 656us/step - loss: 119594008.0000 - val_loss: 256712512.0000\n",
      "Epoch 26/50\n",
      "697/697 [==============================] - 0s 617us/step - loss: 119705680.0000 - val_loss: 257203456.0000\n",
      "Epoch 27/50\n",
      "697/697 [==============================] - 0s 634us/step - loss: 119838072.0000 - val_loss: 257263920.0000\n",
      "Epoch 28/50\n",
      "697/697 [==============================] - 0s 614us/step - loss: 119779968.0000 - val_loss: 257244912.0000\n",
      "Epoch 29/50\n",
      "697/697 [==============================] - 0s 637us/step - loss: 119601320.0000 - val_loss: 257127392.0000\n",
      "Epoch 30/50\n",
      "697/697 [==============================] - 0s 636us/step - loss: 119792192.0000 - val_loss: 257269008.0000\n",
      "Epoch 31/50\n",
      "697/697 [==============================] - 0s 638us/step - loss: 119860504.0000 - val_loss: 257546080.0000\n",
      "Epoch 32/50\n",
      "697/697 [==============================] - 0s 621us/step - loss: 119860480.0000 - val_loss: 257396640.0000\n",
      "Epoch 33/50\n",
      "697/697 [==============================] - 0s 641us/step - loss: 119761088.0000 - val_loss: 257558016.0000\n",
      "Epoch 34/50\n",
      "697/697 [==============================] - 0s 624us/step - loss: 119668168.0000 - val_loss: 257409136.0000\n",
      "Epoch 35/50\n",
      "697/697 [==============================] - 0s 660us/step - loss: 119636768.0000 - val_loss: 257387968.0000\n",
      "Epoch 36/50\n",
      "697/697 [==============================] - 0s 650us/step - loss: 119656096.0000 - val_loss: 257313680.0000\n",
      "Epoch 37/50\n",
      "697/697 [==============================] - 0s 620us/step - loss: 119613936.0000 - val_loss: 257516576.0000\n",
      "Epoch 38/50\n",
      "697/697 [==============================] - 0s 677us/step - loss: 119705664.0000 - val_loss: 257459552.0000\n",
      "Epoch 39/50\n",
      "697/697 [==============================] - 0s 641us/step - loss: 119691032.0000 - val_loss: 257022848.0000\n",
      "Epoch 40/50\n",
      "697/697 [==============================] - 0s 639us/step - loss: 119740656.0000 - val_loss: 256990464.0000\n",
      "Epoch 41/50\n",
      "697/697 [==============================] - 0s 631us/step - loss: 119630608.0000 - val_loss: 256860784.0000\n",
      "Epoch 42/50\n",
      "697/697 [==============================] - 1s 720us/step - loss: 119575056.0000 - val_loss: 256787648.0000\n",
      "Epoch 43/50\n",
      "697/697 [==============================] - 0s 636us/step - loss: 119599288.0000 - val_loss: 256775936.0000\n",
      "Epoch 44/50\n",
      "697/697 [==============================] - 0s 669us/step - loss: 119658560.0000 - val_loss: 256770032.0000\n",
      "Epoch 45/50\n",
      "697/697 [==============================] - 0s 660us/step - loss: 119660192.0000 - val_loss: 256860016.0000\n",
      "Epoch 46/50\n",
      "697/697 [==============================] - 0s 643us/step - loss: 119607808.0000 - val_loss: 256878528.0000\n",
      "Epoch 47/50\n",
      "697/697 [==============================] - 0s 639us/step - loss: 119532656.0000 - val_loss: 256901472.0000\n",
      "Epoch 48/50\n",
      "697/697 [==============================] - 0s 669us/step - loss: 119572568.0000 - val_loss: 256791920.0000\n",
      "Epoch 49/50\n",
      "697/697 [==============================] - 0s 664us/step - loss: 119573648.0000 - val_loss: 256753312.0000\n",
      "Epoch 50/50\n",
      "697/697 [==============================] - 0s 642us/step - loss: 119563824.0000 - val_loss: 257374928.0000\n"
     ]
    }
   ],
   "source": [
    "#train\n",
    "model = keras.models.Sequential([\n",
    "    keras.layers.Dense(30, activation=\"sigmoid\", input_shape=X_train.shape[1:]),\n",
    "    keras.layers.Dense(1)\n",
    "])\n",
    "model.compile(loss=\"mean_squared_error\", optimizer=keras.optimizers.SGD(lr=1e-3))\n",
    "history = model.fit(X_train, y_train, epochs=50, validation_data=(X_valid, y_valid))"
   ]
  },
  {
   "cell_type": "code",
   "execution_count": 4,
   "metadata": {},
   "outputs": [
    {
     "output_type": "stream",
     "name": "stdout",
     "text": [
      "233/233 [==============================] - 0s 570us/step - loss: 257374928.0000\n"
     ]
    }
   ],
   "source": [
    "#validate\n",
    "mse_test = model.evaluate(X_valid, y_valid)"
   ]
  },
  {
   "cell_type": "code",
   "execution_count": 5,
   "metadata": {},
   "outputs": [
    {
     "output_type": "stream",
     "name": "stdout",
     "text": [
      "0.02567383949489377\n"
     ]
    }
   ],
   "source": [
    "#test\n",
    "y_pred = model.predict(X_test)\n",
    "print(r2_score(y_test, y_pred))"
   ]
  },
  {
   "cell_type": "code",
   "execution_count": 33,
   "metadata": {},
   "outputs": [],
   "source": [
    "best_six_indeces = [26, 27, 28, 30, 41, 42]\n",
    "best_six_columns = [columns[i] for i in best_six_indeces]\n",
    "\n",
    "data = data_orig[best_six_columns].to_numpy()\n",
    "samples = data\n",
    "\n",
    "samples = np.asarray(samples).astype(np.float32)\n",
    "classes = np.asarray(classes).astype(np.float32)\n",
    "\n",
    "X_train_full, X_test, y_train_full, y_test = train_test_split(samples, classes)\n",
    "X_train, X_valid, y_train, y_valid = train_test_split(X_train_full, y_train_full)\n",
    "\n",
    "scaler = StandardScaler()\n",
    "X_train = scaler.fit_transform(X_train)\n",
    "X_valid = scaler.transform(X_valid)\n",
    "X_test = scaler.transform(X_test)"
   ]
  },
  {
   "cell_type": "code",
   "execution_count": 34,
   "metadata": {},
   "outputs": [
    {
     "output_type": "stream",
     "name": "stdout",
     "text": [
      "Epoch 1/50\n",
      "697/697 [==============================] - 1s 843us/step - loss: 191237424.0000 - val_loss: 54887620.0000\n",
      "Epoch 2/50\n",
      "697/697 [==============================] - 0s 608us/step - loss: 190854816.0000 - val_loss: 55377740.0000\n",
      "Epoch 3/50\n",
      "697/697 [==============================] - 0s 679us/step - loss: 190903328.0000 - val_loss: 54888660.0000\n",
      "Epoch 4/50\n",
      "697/697 [==============================] - 0s 664us/step - loss: 190851008.0000 - val_loss: 54925828.0000\n",
      "Epoch 5/50\n",
      "697/697 [==============================] - 0s 629us/step - loss: 190788832.0000 - val_loss: 54748696.0000\n",
      "Epoch 6/50\n",
      "697/697 [==============================] - 0s 641us/step - loss: 190541088.0000 - val_loss: 54693932.0000\n",
      "Epoch 7/50\n",
      "697/697 [==============================] - 0s 706us/step - loss: 190876976.0000 - val_loss: 54955112.0000\n",
      "Epoch 8/50\n",
      "697/697 [==============================] - 0s 621us/step - loss: 190902368.0000 - val_loss: 54865020.0000\n",
      "Epoch 9/50\n",
      "697/697 [==============================] - 0s 639us/step - loss: 190752864.0000 - val_loss: 55366420.0000\n",
      "Epoch 10/50\n",
      "697/697 [==============================] - 0s 651us/step - loss: 190875696.0000 - val_loss: 54957740.0000\n",
      "Epoch 11/50\n",
      "697/697 [==============================] - 0s 683us/step - loss: 190857440.0000 - val_loss: 54892176.0000\n",
      "Epoch 12/50\n",
      "697/697 [==============================] - 0s 631us/step - loss: 190715520.0000 - val_loss: 54996660.0000\n",
      "Epoch 13/50\n",
      "697/697 [==============================] - 0s 630us/step - loss: 190655296.0000 - val_loss: 54867520.0000\n",
      "Epoch 14/50\n",
      "697/697 [==============================] - 0s 663us/step - loss: 190541216.0000 - val_loss: 54676768.0000\n",
      "Epoch 15/50\n",
      "697/697 [==============================] - 0s 634us/step - loss: 190560160.0000 - val_loss: 54628476.0000\n",
      "Epoch 16/50\n",
      "697/697 [==============================] - 0s 643us/step - loss: 190756224.0000 - val_loss: 55032872.0000\n",
      "Epoch 17/50\n",
      "697/697 [==============================] - 0s 627us/step - loss: 190861600.0000 - val_loss: 55373276.0000\n",
      "Epoch 18/50\n",
      "697/697 [==============================] - 0s 660us/step - loss: 190881296.0000 - val_loss: 54991704.0000\n",
      "Epoch 19/50\n",
      "697/697 [==============================] - 0s 624us/step - loss: 190727936.0000 - val_loss: 54930256.0000\n",
      "Epoch 20/50\n",
      "697/697 [==============================] - 1s 770us/step - loss: 190729536.0000 - val_loss: 54994960.0000\n",
      "Epoch 21/50\n",
      "697/697 [==============================] - 0s 624us/step - loss: 190720208.0000 - val_loss: 55209504.0000\n",
      "Epoch 22/50\n",
      "697/697 [==============================] - 0s 661us/step - loss: 190815312.0000 - val_loss: 54924856.0000\n",
      "Epoch 23/50\n",
      "697/697 [==============================] - 0s 689us/step - loss: 190918000.0000 - val_loss: 54950980.0000\n",
      "Epoch 24/50\n",
      "697/697 [==============================] - 0s 680us/step - loss: 190875728.0000 - val_loss: 55103152.0000\n",
      "Epoch 25/50\n",
      "697/697 [==============================] - 0s 614us/step - loss: 190747072.0000 - val_loss: 54858804.0000\n",
      "Epoch 26/50\n",
      "697/697 [==============================] - 0s 670us/step - loss: 190705872.0000 - val_loss: 54904092.0000\n",
      "Epoch 27/50\n",
      "697/697 [==============================] - 0s 639us/step - loss: 190656672.0000 - val_loss: 54769488.0000\n",
      "Epoch 28/50\n",
      "697/697 [==============================] - 0s 635us/step - loss: 190616144.0000 - val_loss: 55882444.0000\n",
      "Epoch 29/50\n",
      "697/697 [==============================] - 0s 677us/step - loss: 190729584.0000 - val_loss: 55002084.0000\n",
      "Epoch 30/50\n",
      "697/697 [==============================] - 0s 636us/step - loss: 190708128.0000 - val_loss: 55221204.0000\n",
      "Epoch 31/50\n",
      "697/697 [==============================] - 0s 661us/step - loss: 190743328.0000 - val_loss: 55478444.0000\n",
      "Epoch 32/50\n",
      "697/697 [==============================] - 0s 644us/step - loss: 190592752.0000 - val_loss: 55371860.0000\n",
      "Epoch 33/50\n",
      "697/697 [==============================] - 0s 642us/step - loss: 190526112.0000 - val_loss: 55090156.0000\n",
      "Epoch 34/50\n",
      "697/697 [==============================] - 0s 651us/step - loss: 190735744.0000 - val_loss: 55123816.0000\n",
      "Epoch 35/50\n",
      "697/697 [==============================] - 0s 661us/step - loss: 190610080.0000 - val_loss: 55139640.0000\n",
      "Epoch 36/50\n",
      "697/697 [==============================] - 0s 638us/step - loss: 190373008.0000 - val_loss: 54710180.0000\n",
      "Epoch 37/50\n",
      "697/697 [==============================] - 0s 639us/step - loss: 190314704.0000 - val_loss: 55139304.0000\n",
      "Epoch 38/50\n",
      "697/697 [==============================] - 0s 669us/step - loss: 190990736.0000 - val_loss: 55248624.0000\n",
      "Epoch 39/50\n",
      "697/697 [==============================] - 0s 636us/step - loss: 190906352.0000 - val_loss: 55538548.0000\n",
      "Epoch 40/50\n",
      "697/697 [==============================] - 0s 639us/step - loss: 190932464.0000 - val_loss: 54939128.0000\n",
      "Epoch 41/50\n",
      "697/697 [==============================] - 0s 641us/step - loss: 190855968.0000 - val_loss: 54798604.0000\n",
      "Epoch 42/50\n",
      "697/697 [==============================] - 0s 665us/step - loss: 190848720.0000 - val_loss: 54790000.0000\n",
      "Epoch 43/50\n",
      "697/697 [==============================] - 0s 632us/step - loss: 190788608.0000 - val_loss: 54766484.0000\n",
      "Epoch 44/50\n",
      "697/697 [==============================] - 1s 825us/step - loss: 190730992.0000 - val_loss: 54903496.0000\n",
      "Epoch 45/50\n",
      "697/697 [==============================] - 0s 694us/step - loss: 190677136.0000 - val_loss: 55012544.0000\n",
      "Epoch 46/50\n",
      "697/697 [==============================] - 0s 691us/step - loss: 190727632.0000 - val_loss: 54703384.0000\n",
      "Epoch 47/50\n",
      "697/697 [==============================] - 1s 731us/step - loss: 190651744.0000 - val_loss: 55048212.0000\n",
      "Epoch 48/50\n",
      "697/697 [==============================] - 1s 775us/step - loss: 190836288.0000 - val_loss: 54982160.0000\n",
      "Epoch 49/50\n",
      "697/697 [==============================] - 0s 689us/step - loss: 190806976.0000 - val_loss: 55061396.0000\n",
      "Epoch 50/50\n",
      "697/697 [==============================] - 0s 667us/step - loss: 190806112.0000 - val_loss: 55161188.0000\n"
     ]
    }
   ],
   "source": [
    "#train\n",
    "model = keras.models.Sequential([\n",
    "    keras.layers.Dense(30, activation=\"sigmoid\", input_shape=X_train.shape[1:]),\n",
    "    keras.layers.Dense(1)\n",
    "])\n",
    "model.compile(loss=\"mean_squared_error\", optimizer=keras.optimizers.SGD(lr=1e-3))\n",
    "history = model.fit(X_train, y_train, epochs=50, validation_data=(X_valid, y_valid))"
   ]
  },
  {
   "cell_type": "code",
   "execution_count": 35,
   "metadata": {},
   "outputs": [
    {
     "output_type": "stream",
     "name": "stdout",
     "text": [
      "233/233 [==============================] - 0s 560us/step - loss: 55161188.0000\n"
     ]
    }
   ],
   "source": [
    "#validate\n",
    "mse_test = model.evaluate(X_valid, y_valid)"
   ]
  },
  {
   "cell_type": "code",
   "execution_count": 36,
   "metadata": {},
   "outputs": [
    {
     "output_type": "stream",
     "name": "stdout",
     "text": [
      "0.021483077346698853\n"
     ]
    }
   ],
   "source": [
    "#test\n",
    "y_pred = model.predict(X_test)\n",
    "print(r2_score(y_test, y_pred))"
   ]
  },
  {
   "cell_type": "code",
   "execution_count": 21,
   "metadata": {},
   "outputs": [],
   "source": [
    "best_twenty_indeces = [7,9,10,11,18,20,21,24,25,26,27,28,29,30,41,42,44,53,56,59]\n",
    "best_twenty_columns = [columns[i] for i in best_twenty_indeces]\n",
    "\n",
    "data = data_orig[best_twenty_columns].to_numpy()\n",
    "samples = data\n",
    "\n",
    "samples = np.asarray(samples).astype(np.float32)\n",
    "classes = np.asarray(classes).astype(np.float32)\n",
    "\n",
    "X_train_full, X_test, y_train_full, y_test = train_test_split(samples, classes)\n",
    "X_train, X_valid, y_train, y_valid = train_test_split(X_train_full, y_train_full)\n",
    "\n",
    "scaler = StandardScaler()\n",
    "X_train = scaler.fit_transform(X_train)\n",
    "X_valid = scaler.transform(X_valid)\n",
    "X_test = scaler.transform(X_test)"
   ]
  },
  {
   "cell_type": "code",
   "execution_count": 22,
   "metadata": {},
   "outputs": [
    {
     "output_type": "stream",
     "name": "stdout",
     "text": [
      "Epoch 1/50\n",
      "697/697 [==============================] - 1s 815us/step - loss: 169223088.0000 - val_loss: 121499440.0000\n",
      "Epoch 2/50\n",
      "697/697 [==============================] - 1s 744us/step - loss: 168792768.0000 - val_loss: 121764360.0000\n",
      "Epoch 3/50\n",
      "697/697 [==============================] - 0s 638us/step - loss: 168527376.0000 - val_loss: 121947840.0000\n",
      "Epoch 4/50\n",
      "697/697 [==============================] - 0s 631us/step - loss: 168553504.0000 - val_loss: 121819592.0000\n",
      "Epoch 5/50\n",
      "697/697 [==============================] - 0s 630us/step - loss: 168670656.0000 - val_loss: 122001288.0000\n",
      "Epoch 6/50\n",
      "697/697 [==============================] - 0s 675us/step - loss: 168610176.0000 - val_loss: 121733696.0000\n",
      "Epoch 7/50\n",
      "697/697 [==============================] - 0s 672us/step - loss: 168457920.0000 - val_loss: 121580744.0000\n",
      "Epoch 8/50\n",
      "697/697 [==============================] - 0s 638us/step - loss: 168492928.0000 - val_loss: 121591320.0000\n",
      "Epoch 9/50\n",
      "697/697 [==============================] - 0s 628us/step - loss: 168469424.0000 - val_loss: 121625080.0000\n",
      "Epoch 10/50\n",
      "697/697 [==============================] - 0s 646us/step - loss: 168710976.0000 - val_loss: 121709448.0000\n",
      "Epoch 11/50\n",
      "697/697 [==============================] - 0s 666us/step - loss: 168837792.0000 - val_loss: 121812176.0000\n",
      "Epoch 12/50\n",
      "697/697 [==============================] - 1s 724us/step - loss: 168692576.0000 - val_loss: 121935288.0000\n",
      "Epoch 13/50\n",
      "697/697 [==============================] - 1s 725us/step - loss: 168801120.0000 - val_loss: 121979784.0000\n",
      "Epoch 14/50\n",
      "697/697 [==============================] - 0s 626us/step - loss: 168733824.0000 - val_loss: 122010728.0000\n",
      "Epoch 15/50\n",
      "697/697 [==============================] - 0s 635us/step - loss: 168709232.0000 - val_loss: 121842104.0000\n",
      "Epoch 16/50\n",
      "697/697 [==============================] - 0s 624us/step - loss: 168584048.0000 - val_loss: 121677176.0000\n",
      "Epoch 17/50\n",
      "697/697 [==============================] - 0s 694us/step - loss: 168677824.0000 - val_loss: 121608048.0000\n",
      "Epoch 18/50\n",
      "697/697 [==============================] - 0s 656us/step - loss: 168808656.0000 - val_loss: 121510048.0000\n",
      "Epoch 19/50\n",
      "697/697 [==============================] - 0s 654us/step - loss: 168812736.0000 - val_loss: 121691288.0000\n",
      "Epoch 20/50\n",
      "697/697 [==============================] - 1s 743us/step - loss: 168653776.0000 - val_loss: 121599128.0000\n",
      "Epoch 21/50\n",
      "697/697 [==============================] - 0s 679us/step - loss: 168752080.0000 - val_loss: 121610464.0000\n",
      "Epoch 22/50\n",
      "697/697 [==============================] - 0s 690us/step - loss: 168821056.0000 - val_loss: 121562232.0000\n",
      "Epoch 23/50\n",
      "697/697 [==============================] - 0s 676us/step - loss: 168831552.0000 - val_loss: 121558936.0000\n",
      "Epoch 24/50\n",
      "697/697 [==============================] - 0s 637us/step - loss: 168741936.0000 - val_loss: 121506320.0000\n",
      "Epoch 25/50\n",
      "697/697 [==============================] - 0s 693us/step - loss: 168786848.0000 - val_loss: 121470712.0000\n",
      "Epoch 26/50\n",
      "697/697 [==============================] - 0s 670us/step - loss: 168787840.0000 - val_loss: 121509040.0000\n",
      "Epoch 27/50\n",
      "697/697 [==============================] - 0s 664us/step - loss: 168818128.0000 - val_loss: 121553800.0000\n",
      "Epoch 28/50\n",
      "697/697 [==============================] - 0s 634us/step - loss: 168824400.0000 - val_loss: 121511864.0000\n",
      "Epoch 29/50\n",
      "697/697 [==============================] - 0s 637us/step - loss: 168736208.0000 - val_loss: 121667648.0000\n",
      "Epoch 30/50\n",
      "697/697 [==============================] - 0s 661us/step - loss: 168748544.0000 - val_loss: 121699240.0000\n",
      "Epoch 31/50\n",
      "697/697 [==============================] - 0s 640us/step - loss: 168856944.0000 - val_loss: 121414984.0000\n",
      "Epoch 32/50\n",
      "697/697 [==============================] - 0s 641us/step - loss: 168726352.0000 - val_loss: 121473640.0000\n",
      "Epoch 33/50\n",
      "697/697 [==============================] - 0s 634us/step - loss: 168703760.0000 - val_loss: 121436488.0000\n",
      "Epoch 34/50\n",
      "697/697 [==============================] - 0s 660us/step - loss: 168594576.0000 - val_loss: 121536608.0000\n",
      "Epoch 35/50\n",
      "697/697 [==============================] - 0s 622us/step - loss: 168682336.0000 - val_loss: 121552328.0000\n",
      "Epoch 36/50\n",
      "697/697 [==============================] - 0s 641us/step - loss: 168557120.0000 - val_loss: 121475792.0000\n",
      "Epoch 37/50\n",
      "697/697 [==============================] - 0s 632us/step - loss: 168522384.0000 - val_loss: 121509560.0000\n",
      "Epoch 38/50\n",
      "697/697 [==============================] - 0s 631us/step - loss: 168520672.0000 - val_loss: 121565832.0000\n",
      "Epoch 39/50\n",
      "697/697 [==============================] - 0s 646us/step - loss: 168533488.0000 - val_loss: 121743968.0000\n",
      "Epoch 40/50\n",
      "697/697 [==============================] - 0s 630us/step - loss: 168566528.0000 - val_loss: 121440048.0000\n",
      "Epoch 41/50\n",
      "697/697 [==============================] - 0s 637us/step - loss: 168597984.0000 - val_loss: 121514400.0000\n",
      "Epoch 42/50\n",
      "697/697 [==============================] - 0s 712us/step - loss: 168540272.0000 - val_loss: 121492520.0000\n",
      "Epoch 43/50\n",
      "697/697 [==============================] - 1s 726us/step - loss: 168569616.0000 - val_loss: 121476488.0000\n",
      "Epoch 44/50\n",
      "697/697 [==============================] - 0s 640us/step - loss: 168499264.0000 - val_loss: 121327456.0000\n",
      "Epoch 45/50\n",
      "697/697 [==============================] - 1s 723us/step - loss: 168578032.0000 - val_loss: 121540336.0000\n",
      "Epoch 46/50\n",
      "697/697 [==============================] - 0s 651us/step - loss: 168556816.0000 - val_loss: 121404656.0000\n",
      "Epoch 47/50\n",
      "697/697 [==============================] - 0s 657us/step - loss: 168503712.0000 - val_loss: 121481064.0000\n",
      "Epoch 48/50\n",
      "697/697 [==============================] - 0s 694us/step - loss: 168555936.0000 - val_loss: 121490624.0000\n",
      "Epoch 49/50\n",
      "697/697 [==============================] - 0s 651us/step - loss: 168568240.0000 - val_loss: 121384176.0000\n",
      "Epoch 50/50\n",
      "697/697 [==============================] - 0s 624us/step - loss: 168684576.0000 - val_loss: 121311760.0000\n"
     ]
    }
   ],
   "source": [
    "#train\n",
    "model = keras.models.Sequential([\n",
    "    keras.layers.Dense(30, activation=\"sigmoid\", input_shape=X_train.shape[1:]),\n",
    "    keras.layers.Dense(1)\n",
    "])\n",
    "model.compile(loss=\"mean_squared_error\", optimizer=keras.optimizers.SGD(lr=1e-3))\n",
    "history = model.fit(X_train, y_train, epochs=50, validation_data=(X_valid, y_valid))"
   ]
  },
  {
   "cell_type": "code",
   "execution_count": 23,
   "metadata": {},
   "outputs": [
    {
     "output_type": "stream",
     "name": "stdout",
     "text": [
      "233/233 [==============================] - 0s 414us/step - loss: 121311760.0000\n"
     ]
    }
   ],
   "source": [
    "#validate\n",
    "mse_test = model.evaluate(X_valid, y_valid)"
   ]
  },
  {
   "cell_type": "code",
   "execution_count": 24,
   "metadata": {},
   "outputs": [
    {
     "output_type": "stream",
     "name": "stdout",
     "text": [
      "0.024490553983026464\n"
     ]
    }
   ],
   "source": [
    "#test\n",
    "y_pred = model.predict(X_test)\n",
    "print(r2_score(y_test, y_pred))"
   ]
  },
  {
   "cell_type": "code",
   "execution_count": 63,
   "metadata": {},
   "outputs": [
    {
     "output_type": "execute_result",
     "data": {
      "text/plain": [
       "<matplotlib.axes._subplots.AxesSubplot at 0x2f74e438040>"
      ]
     },
     "metadata": {},
     "execution_count": 63
    },
    {
     "output_type": "display_data",
     "data": {
      "text/plain": "<Figure size 432x288 with 1 Axes>",
      "image/svg+xml": "<?xml version=\"1.0\" encoding=\"utf-8\" standalone=\"no\"?>\r\n<!DOCTYPE svg PUBLIC \"-//W3C//DTD SVG 1.1//EN\"\r\n  \"http://www.w3.org/Graphics/SVG/1.1/DTD/svg11.dtd\">\r\n<!-- Created with matplotlib (https://matplotlib.org/) -->\r\n<svg height=\"259.116562pt\" version=\"1.1\" viewBox=\"0 0 384.828125 259.116562\" width=\"384.828125pt\" xmlns=\"http://www.w3.org/2000/svg\" xmlns:xlink=\"http://www.w3.org/1999/xlink\">\r\n <defs>\r\n  <style type=\"text/css\">\r\n*{stroke-linecap:butt;stroke-linejoin:round;}\r\n  </style>\r\n </defs>\r\n <g id=\"figure_1\">\r\n  <g id=\"patch_1\">\r\n   <path d=\"M 0 259.116562 \r\nL 384.828125 259.116562 \r\nL 384.828125 0 \r\nL 0 0 \r\nz\r\n\" style=\"fill:none;\"/>\r\n  </g>\r\n  <g id=\"axes_1\">\r\n   <g id=\"patch_2\">\r\n    <path d=\"M 42.828125 235.238437 \r\nL 377.628125 235.238437 \r\nL 377.628125 17.798437 \r\nL 42.828125 17.798437 \r\nz\r\n\" style=\"fill:#ffffff;\"/>\r\n   </g>\r\n   <g id=\"matplotlib.axis_1\">\r\n    <g id=\"xtick_1\">\r\n     <g id=\"line2d_1\">\r\n      <defs>\r\n       <path d=\"M 0 0 \r\nL 0 3.5 \r\n\" id=\"m8f3df81cb5\" style=\"stroke:#000000;stroke-width:0.8;\"/>\r\n      </defs>\r\n      <g>\r\n       <use style=\"stroke:#000000;stroke-width:0.8;\" x=\"58.046307\" xlink:href=\"#m8f3df81cb5\" y=\"235.238437\"/>\r\n      </g>\r\n     </g>\r\n     <g id=\"text_1\">\r\n      <!-- 0 -->\r\n      <defs>\r\n       <path d=\"M 31.78125 66.40625 \r\nQ 24.171875 66.40625 20.328125 58.90625 \r\nQ 16.5 51.421875 16.5 36.375 \r\nQ 16.5 21.390625 20.328125 13.890625 \r\nQ 24.171875 6.390625 31.78125 6.390625 \r\nQ 39.453125 6.390625 43.28125 13.890625 \r\nQ 47.125 21.390625 47.125 36.375 \r\nQ 47.125 51.421875 43.28125 58.90625 \r\nQ 39.453125 66.40625 31.78125 66.40625 \r\nz\r\nM 31.78125 74.21875 \r\nQ 44.046875 74.21875 50.515625 64.515625 \r\nQ 56.984375 54.828125 56.984375 36.375 \r\nQ 56.984375 17.96875 50.515625 8.265625 \r\nQ 44.046875 -1.421875 31.78125 -1.421875 \r\nQ 19.53125 -1.421875 13.0625 8.265625 \r\nQ 6.59375 17.96875 6.59375 36.375 \r\nQ 6.59375 54.828125 13.0625 64.515625 \r\nQ 19.53125 74.21875 31.78125 74.21875 \r\nz\r\n\" id=\"DejaVuSans-48\"/>\r\n      </defs>\r\n      <g transform=\"translate(54.865057 249.836875)scale(0.1 -0.1)\">\r\n       <use xlink:href=\"#DejaVuSans-48\"/>\r\n      </g>\r\n     </g>\r\n    </g>\r\n    <g id=\"xtick_2\">\r\n     <g id=\"line2d_2\">\r\n      <g>\r\n       <use style=\"stroke:#000000;stroke-width:0.8;\" x=\"120.161335\" xlink:href=\"#m8f3df81cb5\" y=\"235.238437\"/>\r\n      </g>\r\n     </g>\r\n     <g id=\"text_2\">\r\n      <!-- 10 -->\r\n      <defs>\r\n       <path d=\"M 12.40625 8.296875 \r\nL 28.515625 8.296875 \r\nL 28.515625 63.921875 \r\nL 10.984375 60.40625 \r\nL 10.984375 69.390625 \r\nL 28.421875 72.90625 \r\nL 38.28125 72.90625 \r\nL 38.28125 8.296875 \r\nL 54.390625 8.296875 \r\nL 54.390625 0 \r\nL 12.40625 0 \r\nz\r\n\" id=\"DejaVuSans-49\"/>\r\n      </defs>\r\n      <g transform=\"translate(113.798835 249.836875)scale(0.1 -0.1)\">\r\n       <use xlink:href=\"#DejaVuSans-49\"/>\r\n       <use x=\"63.623047\" xlink:href=\"#DejaVuSans-48\"/>\r\n      </g>\r\n     </g>\r\n    </g>\r\n    <g id=\"xtick_3\">\r\n     <g id=\"line2d_3\">\r\n      <g>\r\n       <use style=\"stroke:#000000;stroke-width:0.8;\" x=\"182.276362\" xlink:href=\"#m8f3df81cb5\" y=\"235.238437\"/>\r\n      </g>\r\n     </g>\r\n     <g id=\"text_3\">\r\n      <!-- 20 -->\r\n      <defs>\r\n       <path d=\"M 19.1875 8.296875 \r\nL 53.609375 8.296875 \r\nL 53.609375 0 \r\nL 7.328125 0 \r\nL 7.328125 8.296875 \r\nQ 12.9375 14.109375 22.625 23.890625 \r\nQ 32.328125 33.6875 34.8125 36.53125 \r\nQ 39.546875 41.84375 41.421875 45.53125 \r\nQ 43.3125 49.21875 43.3125 52.78125 \r\nQ 43.3125 58.59375 39.234375 62.25 \r\nQ 35.15625 65.921875 28.609375 65.921875 \r\nQ 23.96875 65.921875 18.8125 64.3125 \r\nQ 13.671875 62.703125 7.8125 59.421875 \r\nL 7.8125 69.390625 \r\nQ 13.765625 71.78125 18.9375 73 \r\nQ 24.125 74.21875 28.421875 74.21875 \r\nQ 39.75 74.21875 46.484375 68.546875 \r\nQ 53.21875 62.890625 53.21875 53.421875 \r\nQ 53.21875 48.921875 51.53125 44.890625 \r\nQ 49.859375 40.875 45.40625 35.40625 \r\nQ 44.1875 33.984375 37.640625 27.21875 \r\nQ 31.109375 20.453125 19.1875 8.296875 \r\nz\r\n\" id=\"DejaVuSans-50\"/>\r\n      </defs>\r\n      <g transform=\"translate(175.913862 249.836875)scale(0.1 -0.1)\">\r\n       <use xlink:href=\"#DejaVuSans-50\"/>\r\n       <use x=\"63.623047\" xlink:href=\"#DejaVuSans-48\"/>\r\n      </g>\r\n     </g>\r\n    </g>\r\n    <g id=\"xtick_4\">\r\n     <g id=\"line2d_4\">\r\n      <g>\r\n       <use style=\"stroke:#000000;stroke-width:0.8;\" x=\"244.39139\" xlink:href=\"#m8f3df81cb5\" y=\"235.238437\"/>\r\n      </g>\r\n     </g>\r\n     <g id=\"text_4\">\r\n      <!-- 30 -->\r\n      <defs>\r\n       <path d=\"M 40.578125 39.3125 \r\nQ 47.65625 37.796875 51.625 33 \r\nQ 55.609375 28.21875 55.609375 21.1875 \r\nQ 55.609375 10.40625 48.1875 4.484375 \r\nQ 40.765625 -1.421875 27.09375 -1.421875 \r\nQ 22.515625 -1.421875 17.65625 -0.515625 \r\nQ 12.796875 0.390625 7.625 2.203125 \r\nL 7.625 11.71875 \r\nQ 11.71875 9.328125 16.59375 8.109375 \r\nQ 21.484375 6.890625 26.8125 6.890625 \r\nQ 36.078125 6.890625 40.9375 10.546875 \r\nQ 45.796875 14.203125 45.796875 21.1875 \r\nQ 45.796875 27.640625 41.28125 31.265625 \r\nQ 36.765625 34.90625 28.71875 34.90625 \r\nL 20.21875 34.90625 \r\nL 20.21875 43.015625 \r\nL 29.109375 43.015625 \r\nQ 36.375 43.015625 40.234375 45.921875 \r\nQ 44.09375 48.828125 44.09375 54.296875 \r\nQ 44.09375 59.90625 40.109375 62.90625 \r\nQ 36.140625 65.921875 28.71875 65.921875 \r\nQ 24.65625 65.921875 20.015625 65.03125 \r\nQ 15.375 64.15625 9.8125 62.3125 \r\nL 9.8125 71.09375 \r\nQ 15.4375 72.65625 20.34375 73.4375 \r\nQ 25.25 74.21875 29.59375 74.21875 \r\nQ 40.828125 74.21875 47.359375 69.109375 \r\nQ 53.90625 64.015625 53.90625 55.328125 \r\nQ 53.90625 49.265625 50.4375 45.09375 \r\nQ 46.96875 40.921875 40.578125 39.3125 \r\nz\r\n\" id=\"DejaVuSans-51\"/>\r\n      </defs>\r\n      <g transform=\"translate(238.02889 249.836875)scale(0.1 -0.1)\">\r\n       <use xlink:href=\"#DejaVuSans-51\"/>\r\n       <use x=\"63.623047\" xlink:href=\"#DejaVuSans-48\"/>\r\n      </g>\r\n     </g>\r\n    </g>\r\n    <g id=\"xtick_5\">\r\n     <g id=\"line2d_5\">\r\n      <g>\r\n       <use style=\"stroke:#000000;stroke-width:0.8;\" x=\"306.506418\" xlink:href=\"#m8f3df81cb5\" y=\"235.238437\"/>\r\n      </g>\r\n     </g>\r\n     <g id=\"text_5\">\r\n      <!-- 40 -->\r\n      <defs>\r\n       <path d=\"M 37.796875 64.3125 \r\nL 12.890625 25.390625 \r\nL 37.796875 25.390625 \r\nz\r\nM 35.203125 72.90625 \r\nL 47.609375 72.90625 \r\nL 47.609375 25.390625 \r\nL 58.015625 25.390625 \r\nL 58.015625 17.1875 \r\nL 47.609375 17.1875 \r\nL 47.609375 0 \r\nL 37.796875 0 \r\nL 37.796875 17.1875 \r\nL 4.890625 17.1875 \r\nL 4.890625 26.703125 \r\nz\r\n\" id=\"DejaVuSans-52\"/>\r\n      </defs>\r\n      <g transform=\"translate(300.143918 249.836875)scale(0.1 -0.1)\">\r\n       <use xlink:href=\"#DejaVuSans-52\"/>\r\n       <use x=\"63.623047\" xlink:href=\"#DejaVuSans-48\"/>\r\n      </g>\r\n     </g>\r\n    </g>\r\n    <g id=\"xtick_6\">\r\n     <g id=\"line2d_6\">\r\n      <g>\r\n       <use style=\"stroke:#000000;stroke-width:0.8;\" x=\"368.621446\" xlink:href=\"#m8f3df81cb5\" y=\"235.238437\"/>\r\n      </g>\r\n     </g>\r\n     <g id=\"text_6\">\r\n      <!-- 50 -->\r\n      <defs>\r\n       <path d=\"M 10.796875 72.90625 \r\nL 49.515625 72.90625 \r\nL 49.515625 64.59375 \r\nL 19.828125 64.59375 \r\nL 19.828125 46.734375 \r\nQ 21.96875 47.46875 24.109375 47.828125 \r\nQ 26.265625 48.1875 28.421875 48.1875 \r\nQ 40.625 48.1875 47.75 41.5 \r\nQ 54.890625 34.8125 54.890625 23.390625 \r\nQ 54.890625 11.625 47.5625 5.09375 \r\nQ 40.234375 -1.421875 26.90625 -1.421875 \r\nQ 22.3125 -1.421875 17.546875 -0.640625 \r\nQ 12.796875 0.140625 7.71875 1.703125 \r\nL 7.71875 11.625 \r\nQ 12.109375 9.234375 16.796875 8.0625 \r\nQ 21.484375 6.890625 26.703125 6.890625 \r\nQ 35.15625 6.890625 40.078125 11.328125 \r\nQ 45.015625 15.765625 45.015625 23.390625 \r\nQ 45.015625 31 40.078125 35.4375 \r\nQ 35.15625 39.890625 26.703125 39.890625 \r\nQ 22.75 39.890625 18.8125 39.015625 \r\nQ 14.890625 38.140625 10.796875 36.28125 \r\nz\r\n\" id=\"DejaVuSans-53\"/>\r\n      </defs>\r\n      <g transform=\"translate(362.258946 249.836875)scale(0.1 -0.1)\">\r\n       <use xlink:href=\"#DejaVuSans-53\"/>\r\n       <use x=\"63.623047\" xlink:href=\"#DejaVuSans-48\"/>\r\n      </g>\r\n     </g>\r\n    </g>\r\n   </g>\r\n   <g id=\"matplotlib.axis_2\">\r\n    <g id=\"ytick_1\">\r\n     <g id=\"line2d_7\">\r\n      <defs>\r\n       <path d=\"M 0 0 \r\nL -3.5 0 \r\n\" id=\"m7e297b34c5\" style=\"stroke:#000000;stroke-width:0.8;\"/>\r\n      </defs>\r\n      <g>\r\n       <use style=\"stroke:#000000;stroke-width:0.8;\" x=\"42.828125\" xlink:href=\"#m7e297b34c5\" y=\"235.238438\"/>\r\n      </g>\r\n     </g>\r\n     <g id=\"text_7\">\r\n      <!-- 1.800 -->\r\n      <defs>\r\n       <path d=\"M 10.6875 12.40625 \r\nL 21 12.40625 \r\nL 21 0 \r\nL 10.6875 0 \r\nz\r\n\" id=\"DejaVuSans-46\"/>\r\n       <path d=\"M 31.78125 34.625 \r\nQ 24.75 34.625 20.71875 30.859375 \r\nQ 16.703125 27.09375 16.703125 20.515625 \r\nQ 16.703125 13.921875 20.71875 10.15625 \r\nQ 24.75 6.390625 31.78125 6.390625 \r\nQ 38.8125 6.390625 42.859375 10.171875 \r\nQ 46.921875 13.96875 46.921875 20.515625 \r\nQ 46.921875 27.09375 42.890625 30.859375 \r\nQ 38.875 34.625 31.78125 34.625 \r\nz\r\nM 21.921875 38.8125 \r\nQ 15.578125 40.375 12.03125 44.71875 \r\nQ 8.5 49.078125 8.5 55.328125 \r\nQ 8.5 64.0625 14.71875 69.140625 \r\nQ 20.953125 74.21875 31.78125 74.21875 \r\nQ 42.671875 74.21875 48.875 69.140625 \r\nQ 55.078125 64.0625 55.078125 55.328125 \r\nQ 55.078125 49.078125 51.53125 44.71875 \r\nQ 48 40.375 41.703125 38.8125 \r\nQ 48.828125 37.15625 52.796875 32.3125 \r\nQ 56.78125 27.484375 56.78125 20.515625 \r\nQ 56.78125 9.90625 50.3125 4.234375 \r\nQ 43.84375 -1.421875 31.78125 -1.421875 \r\nQ 19.734375 -1.421875 13.25 4.234375 \r\nQ 6.78125 9.90625 6.78125 20.515625 \r\nQ 6.78125 27.484375 10.78125 32.3125 \r\nQ 14.796875 37.15625 21.921875 38.8125 \r\nz\r\nM 18.3125 54.390625 \r\nQ 18.3125 48.734375 21.84375 45.5625 \r\nQ 25.390625 42.390625 31.78125 42.390625 \r\nQ 38.140625 42.390625 41.71875 45.5625 \r\nQ 45.3125 48.734375 45.3125 54.390625 \r\nQ 45.3125 60.0625 41.71875 63.234375 \r\nQ 38.140625 66.40625 31.78125 66.40625 \r\nQ 25.390625 66.40625 21.84375 63.234375 \r\nQ 18.3125 60.0625 18.3125 54.390625 \r\nz\r\n\" id=\"DejaVuSans-56\"/>\r\n      </defs>\r\n      <g transform=\"translate(7.2 239.037656)scale(0.1 -0.1)\">\r\n       <use xlink:href=\"#DejaVuSans-49\"/>\r\n       <use x=\"63.623047\" xlink:href=\"#DejaVuSans-46\"/>\r\n       <use x=\"95.410156\" xlink:href=\"#DejaVuSans-56\"/>\r\n       <use x=\"159.033203\" xlink:href=\"#DejaVuSans-48\"/>\r\n       <use x=\"222.65625\" xlink:href=\"#DejaVuSans-48\"/>\r\n      </g>\r\n     </g>\r\n    </g>\r\n    <g id=\"ytick_2\">\r\n     <g id=\"line2d_8\">\r\n      <g>\r\n       <use style=\"stroke:#000000;stroke-width:0.8;\" x=\"42.828125\" xlink:href=\"#m7e297b34c5\" y=\"208.058438\"/>\r\n      </g>\r\n     </g>\r\n     <g id=\"text_8\">\r\n      <!-- 1.825 -->\r\n      <g transform=\"translate(7.2 211.857656)scale(0.1 -0.1)\">\r\n       <use xlink:href=\"#DejaVuSans-49\"/>\r\n       <use x=\"63.623047\" xlink:href=\"#DejaVuSans-46\"/>\r\n       <use x=\"95.410156\" xlink:href=\"#DejaVuSans-56\"/>\r\n       <use x=\"159.033203\" xlink:href=\"#DejaVuSans-50\"/>\r\n       <use x=\"222.65625\" xlink:href=\"#DejaVuSans-53\"/>\r\n      </g>\r\n     </g>\r\n    </g>\r\n    <g id=\"ytick_3\">\r\n     <g id=\"line2d_9\">\r\n      <g>\r\n       <use style=\"stroke:#000000;stroke-width:0.8;\" x=\"42.828125\" xlink:href=\"#m7e297b34c5\" y=\"180.878438\"/>\r\n      </g>\r\n     </g>\r\n     <g id=\"text_9\">\r\n      <!-- 1.850 -->\r\n      <g transform=\"translate(7.2 184.677656)scale(0.1 -0.1)\">\r\n       <use xlink:href=\"#DejaVuSans-49\"/>\r\n       <use x=\"63.623047\" xlink:href=\"#DejaVuSans-46\"/>\r\n       <use x=\"95.410156\" xlink:href=\"#DejaVuSans-56\"/>\r\n       <use x=\"159.033203\" xlink:href=\"#DejaVuSans-53\"/>\r\n       <use x=\"222.65625\" xlink:href=\"#DejaVuSans-48\"/>\r\n      </g>\r\n     </g>\r\n    </g>\r\n    <g id=\"ytick_4\">\r\n     <g id=\"line2d_10\">\r\n      <g>\r\n       <use style=\"stroke:#000000;stroke-width:0.8;\" x=\"42.828125\" xlink:href=\"#m7e297b34c5\" y=\"153.698438\"/>\r\n      </g>\r\n     </g>\r\n     <g id=\"text_10\">\r\n      <!-- 1.875 -->\r\n      <defs>\r\n       <path d=\"M 8.203125 72.90625 \r\nL 55.078125 72.90625 \r\nL 55.078125 68.703125 \r\nL 28.609375 0 \r\nL 18.3125 0 \r\nL 43.21875 64.59375 \r\nL 8.203125 64.59375 \r\nz\r\n\" id=\"DejaVuSans-55\"/>\r\n      </defs>\r\n      <g transform=\"translate(7.2 157.497656)scale(0.1 -0.1)\">\r\n       <use xlink:href=\"#DejaVuSans-49\"/>\r\n       <use x=\"63.623047\" xlink:href=\"#DejaVuSans-46\"/>\r\n       <use x=\"95.410156\" xlink:href=\"#DejaVuSans-56\"/>\r\n       <use x=\"159.033203\" xlink:href=\"#DejaVuSans-55\"/>\r\n       <use x=\"222.65625\" xlink:href=\"#DejaVuSans-53\"/>\r\n      </g>\r\n     </g>\r\n    </g>\r\n    <g id=\"ytick_5\">\r\n     <g id=\"line2d_11\">\r\n      <g>\r\n       <use style=\"stroke:#000000;stroke-width:0.8;\" x=\"42.828125\" xlink:href=\"#m7e297b34c5\" y=\"126.518438\"/>\r\n      </g>\r\n     </g>\r\n     <g id=\"text_11\">\r\n      <!-- 1.900 -->\r\n      <defs>\r\n       <path d=\"M 10.984375 1.515625 \r\nL 10.984375 10.5 \r\nQ 14.703125 8.734375 18.5 7.8125 \r\nQ 22.3125 6.890625 25.984375 6.890625 \r\nQ 35.75 6.890625 40.890625 13.453125 \r\nQ 46.046875 20.015625 46.78125 33.40625 \r\nQ 43.953125 29.203125 39.59375 26.953125 \r\nQ 35.25 24.703125 29.984375 24.703125 \r\nQ 19.046875 24.703125 12.671875 31.3125 \r\nQ 6.296875 37.9375 6.296875 49.421875 \r\nQ 6.296875 60.640625 12.9375 67.421875 \r\nQ 19.578125 74.21875 30.609375 74.21875 \r\nQ 43.265625 74.21875 49.921875 64.515625 \r\nQ 56.59375 54.828125 56.59375 36.375 \r\nQ 56.59375 19.140625 48.40625 8.859375 \r\nQ 40.234375 -1.421875 26.421875 -1.421875 \r\nQ 22.703125 -1.421875 18.890625 -0.6875 \r\nQ 15.09375 0.046875 10.984375 1.515625 \r\nz\r\nM 30.609375 32.421875 \r\nQ 37.25 32.421875 41.125 36.953125 \r\nQ 45.015625 41.5 45.015625 49.421875 \r\nQ 45.015625 57.28125 41.125 61.84375 \r\nQ 37.25 66.40625 30.609375 66.40625 \r\nQ 23.96875 66.40625 20.09375 61.84375 \r\nQ 16.21875 57.28125 16.21875 49.421875 \r\nQ 16.21875 41.5 20.09375 36.953125 \r\nQ 23.96875 32.421875 30.609375 32.421875 \r\nz\r\n\" id=\"DejaVuSans-57\"/>\r\n      </defs>\r\n      <g transform=\"translate(7.2 130.317656)scale(0.1 -0.1)\">\r\n       <use xlink:href=\"#DejaVuSans-49\"/>\r\n       <use x=\"63.623047\" xlink:href=\"#DejaVuSans-46\"/>\r\n       <use x=\"95.410156\" xlink:href=\"#DejaVuSans-57\"/>\r\n       <use x=\"159.033203\" xlink:href=\"#DejaVuSans-48\"/>\r\n       <use x=\"222.65625\" xlink:href=\"#DejaVuSans-48\"/>\r\n      </g>\r\n     </g>\r\n    </g>\r\n    <g id=\"ytick_6\">\r\n     <g id=\"line2d_12\">\r\n      <g>\r\n       <use style=\"stroke:#000000;stroke-width:0.8;\" x=\"42.828125\" xlink:href=\"#m7e297b34c5\" y=\"99.338438\"/>\r\n      </g>\r\n     </g>\r\n     <g id=\"text_12\">\r\n      <!-- 1.925 -->\r\n      <g transform=\"translate(7.2 103.137656)scale(0.1 -0.1)\">\r\n       <use xlink:href=\"#DejaVuSans-49\"/>\r\n       <use x=\"63.623047\" xlink:href=\"#DejaVuSans-46\"/>\r\n       <use x=\"95.410156\" xlink:href=\"#DejaVuSans-57\"/>\r\n       <use x=\"159.033203\" xlink:href=\"#DejaVuSans-50\"/>\r\n       <use x=\"222.65625\" xlink:href=\"#DejaVuSans-53\"/>\r\n      </g>\r\n     </g>\r\n    </g>\r\n    <g id=\"ytick_7\">\r\n     <g id=\"line2d_13\">\r\n      <g>\r\n       <use style=\"stroke:#000000;stroke-width:0.8;\" x=\"42.828125\" xlink:href=\"#m7e297b34c5\" y=\"72.158438\"/>\r\n      </g>\r\n     </g>\r\n     <g id=\"text_13\">\r\n      <!-- 1.950 -->\r\n      <g transform=\"translate(7.2 75.957656)scale(0.1 -0.1)\">\r\n       <use xlink:href=\"#DejaVuSans-49\"/>\r\n       <use x=\"63.623047\" xlink:href=\"#DejaVuSans-46\"/>\r\n       <use x=\"95.410156\" xlink:href=\"#DejaVuSans-57\"/>\r\n       <use x=\"159.033203\" xlink:href=\"#DejaVuSans-53\"/>\r\n       <use x=\"222.65625\" xlink:href=\"#DejaVuSans-48\"/>\r\n      </g>\r\n     </g>\r\n    </g>\r\n    <g id=\"ytick_8\">\r\n     <g id=\"line2d_14\">\r\n      <g>\r\n       <use style=\"stroke:#000000;stroke-width:0.8;\" x=\"42.828125\" xlink:href=\"#m7e297b34c5\" y=\"44.978438\"/>\r\n      </g>\r\n     </g>\r\n     <g id=\"text_14\">\r\n      <!-- 1.975 -->\r\n      <g transform=\"translate(7.2 48.777656)scale(0.1 -0.1)\">\r\n       <use xlink:href=\"#DejaVuSans-49\"/>\r\n       <use x=\"63.623047\" xlink:href=\"#DejaVuSans-46\"/>\r\n       <use x=\"95.410156\" xlink:href=\"#DejaVuSans-57\"/>\r\n       <use x=\"159.033203\" xlink:href=\"#DejaVuSans-55\"/>\r\n       <use x=\"222.65625\" xlink:href=\"#DejaVuSans-53\"/>\r\n      </g>\r\n     </g>\r\n    </g>\r\n    <g id=\"ytick_9\">\r\n     <g id=\"line2d_15\">\r\n      <g>\r\n       <use style=\"stroke:#000000;stroke-width:0.8;\" x=\"42.828125\" xlink:href=\"#m7e297b34c5\" y=\"17.798438\"/>\r\n      </g>\r\n     </g>\r\n     <g id=\"text_15\">\r\n      <!-- 2.000 -->\r\n      <g transform=\"translate(7.2 21.597656)scale(0.1 -0.1)\">\r\n       <use xlink:href=\"#DejaVuSans-50\"/>\r\n       <use x=\"63.623047\" xlink:href=\"#DejaVuSans-46\"/>\r\n       <use x=\"95.410156\" xlink:href=\"#DejaVuSans-48\"/>\r\n       <use x=\"159.033203\" xlink:href=\"#DejaVuSans-48\"/>\r\n       <use x=\"222.65625\" xlink:href=\"#DejaVuSans-48\"/>\r\n      </g>\r\n     </g>\r\n    </g>\r\n    <g id=\"text_16\">\r\n     <!-- 1e8 -->\r\n     <defs>\r\n      <path d=\"M 56.203125 29.59375 \r\nL 56.203125 25.203125 \r\nL 14.890625 25.203125 \r\nQ 15.484375 15.921875 20.484375 11.0625 \r\nQ 25.484375 6.203125 34.421875 6.203125 \r\nQ 39.59375 6.203125 44.453125 7.46875 \r\nQ 49.3125 8.734375 54.109375 11.28125 \r\nL 54.109375 2.78125 \r\nQ 49.265625 0.734375 44.1875 -0.34375 \r\nQ 39.109375 -1.421875 33.890625 -1.421875 \r\nQ 20.796875 -1.421875 13.15625 6.1875 \r\nQ 5.515625 13.8125 5.515625 26.8125 \r\nQ 5.515625 40.234375 12.765625 48.109375 \r\nQ 20.015625 56 32.328125 56 \r\nQ 43.359375 56 49.78125 48.890625 \r\nQ 56.203125 41.796875 56.203125 29.59375 \r\nz\r\nM 47.21875 32.234375 \r\nQ 47.125 39.59375 43.09375 43.984375 \r\nQ 39.0625 48.390625 32.421875 48.390625 \r\nQ 24.90625 48.390625 20.390625 44.140625 \r\nQ 15.875 39.890625 15.1875 32.171875 \r\nz\r\n\" id=\"DejaVuSans-101\"/>\r\n     </defs>\r\n     <g transform=\"translate(42.828125 14.798437)scale(0.1 -0.1)\">\r\n      <use xlink:href=\"#DejaVuSans-49\"/>\r\n      <use x=\"63.623047\" xlink:href=\"#DejaVuSans-101\"/>\r\n      <use x=\"125.146484\" xlink:href=\"#DejaVuSans-56\"/>\r\n     </g>\r\n    </g>\r\n   </g>\r\n   <g id=\"line2d_16\">\r\n    <path clip-path=\"url(#pb6cb6bbd89)\" d=\"M 58.046307 113.065164 \r\nL 64.25781 117.224878 \r\nL 70.469312 116.697455 \r\nL 76.680815 117.266279 \r\nL 82.892318 117.942256 \r\nL 89.103821 120.635729 \r\nL 95.315324 116.983954 \r\nL 101.526826 116.707893 \r\nL 107.738329 118.3333 \r\nL 113.949832 116.997871 \r\nL 120.161335 117.19635 \r\nL 126.372837 118.739304 \r\nL 132.58434 119.394059 \r\nL 138.795843 120.634337 \r\nL 145.007346 120.428378 \r\nL 151.218849 118.29677 \r\nL 157.430351 117.151122 \r\nL 163.641854 116.936987 \r\nL 169.853357 118.604317 \r\nL 176.06486 118.586922 \r\nL 182.276362 118.688336 \r\nL 188.487865 117.654365 \r\nL 194.699368 116.537942 \r\nL 200.910871 116.997523 \r\nL 207.122374 118.396271 \r\nL 213.333876 118.844197 \r\nL 219.545379 119.3791 \r\nL 225.756882 119.81972 \r\nL 231.968385 118.5864 \r\nL 238.179888 118.81967 \r\nL 244.39139 118.436975 \r\nL 250.602893 120.074038 \r\nL 256.814396 120.798548 \r\nL 263.025899 118.519429 \r\nL 269.237401 119.885648 \r\nL 275.448904 122.463095 \r\nL 281.660407 123.096976 \r\nL 287.87191 115.747156 \r\nL 294.083413 116.664579 \r\nL 300.294915 116.380689 \r\nL 306.506418 117.212353 \r\nL 312.717921 117.291154 \r\nL 318.929424 117.944691 \r\nL 325.140926 118.571092 \r\nL 331.352429 119.156615 \r\nL 337.563932 118.607622 \r\nL 343.775435 119.432677 \r\nL 349.986938 117.426314 \r\nL 356.19844 117.744994 \r\nL 362.409943 117.754388 \r\n\" style=\"fill:none;stroke:#1f77b4;stroke-linecap:square;stroke-width:1.5;\"/>\r\n   </g>\r\n   <g id=\"line2d_17\"/>\r\n   <g id=\"patch_3\">\r\n    <path d=\"M 42.828125 235.238438 \r\nL 42.828125 17.798438 \r\n\" style=\"fill:none;stroke:#000000;stroke-linecap:square;stroke-linejoin:miter;stroke-width:0.8;\"/>\r\n   </g>\r\n   <g id=\"patch_4\">\r\n    <path d=\"M 377.628125 235.238438 \r\nL 377.628125 17.798438 \r\n\" style=\"fill:none;stroke:#000000;stroke-linecap:square;stroke-linejoin:miter;stroke-width:0.8;\"/>\r\n   </g>\r\n   <g id=\"patch_5\">\r\n    <path d=\"M 42.828125 235.238437 \r\nL 377.628125 235.238437 \r\n\" style=\"fill:none;stroke:#000000;stroke-linecap:square;stroke-linejoin:miter;stroke-width:0.8;\"/>\r\n   </g>\r\n   <g id=\"patch_6\">\r\n    <path d=\"M 42.828125 17.798437 \r\nL 377.628125 17.798437 \r\n\" style=\"fill:none;stroke:#000000;stroke-linecap:square;stroke-linejoin:miter;stroke-width:0.8;\"/>\r\n   </g>\r\n   <g id=\"legend_1\">\r\n    <g id=\"patch_7\">\r\n     <path d=\"M 332.265625 40.476562 \r\nL 370.628125 40.476562 \r\nQ 372.628125 40.476562 372.628125 38.476562 \r\nL 372.628125 24.798437 \r\nQ 372.628125 22.798437 370.628125 22.798437 \r\nL 332.265625 22.798437 \r\nQ 330.265625 22.798437 330.265625 24.798437 \r\nL 330.265625 38.476562 \r\nQ 330.265625 40.476562 332.265625 40.476562 \r\nz\r\n\" style=\"fill:#ffffff;opacity:0.8;stroke:#cccccc;stroke-linejoin:miter;\"/>\r\n    </g>\r\n    <g id=\"line2d_18\">\r\n     <path d=\"M 334.265625 30.896875 \r\nL 354.265625 30.896875 \r\n\" style=\"fill:none;stroke:#1f77b4;stroke-linecap:square;stroke-width:1.5;\"/>\r\n    </g>\r\n    <g id=\"line2d_19\"/>\r\n    <g id=\"text_17\">\r\n     <!-- 0 -->\r\n     <g transform=\"translate(362.265625 34.396875)scale(0.1 -0.1)\">\r\n      <use xlink:href=\"#DejaVuSans-48\"/>\r\n     </g>\r\n    </g>\r\n   </g>\r\n  </g>\r\n </g>\r\n <defs>\r\n  <clipPath id=\"pb6cb6bbd89\">\r\n   <rect height=\"217.44\" width=\"334.8\" x=\"42.828125\" y=\"17.798437\"/>\r\n  </clipPath>\r\n </defs>\r\n</svg>\r\n",
      "image/png": "[encoded data removed]"
     },
     "metadata": {
      "needs_background": "light"
     }
    }
   ],
   "source": [
    "plt.ylim(1.8e8, 2e8)\n",
    "sns.lineplot(data=pd.DataFrame(history.history['loss']))"
   ]
  },
  {
   "cell_type": "code",
   "execution_count": 68,
   "metadata": {},
   "outputs": [
    {
     "output_type": "execute_result",
     "data": {
      "text/plain": [
       "<matplotlib.axes._subplots.AxesSubplot at 0x2f74b9678b0>"
      ]
     },
     "metadata": {},
     "execution_count": 68
    },
    {
     "output_type": "display_data",
     "data": {
      "text/plain": "<Figure size 432x288 with 1 Axes>",
      "image/svg+xml": "<?xml version=\"1.0\" encoding=\"utf-8\" standalone=\"no\"?>\r\n<!DOCTYPE svg PUBLIC \"-//W3C//DTD SVG 1.1//EN\"\r\n  \"http://www.w3.org/Graphics/SVG/1.1/DTD/svg11.dtd\">\r\n<!-- Created with matplotlib (https://matplotlib.org/) -->\r\n<svg height=\"259.116562pt\" version=\"1.1\" viewBox=\"0 0 362.5625 259.116562\" width=\"362.5625pt\" xmlns=\"http://www.w3.org/2000/svg\" xmlns:xlink=\"http://www.w3.org/1999/xlink\">\r\n <defs>\r\n  <style type=\"text/css\">\r\n*{stroke-linecap:butt;stroke-linejoin:round;}\r\n  </style>\r\n </defs>\r\n <g id=\"figure_1\">\r\n  <g id=\"patch_1\">\r\n   <path d=\"M 0 259.116562 \r\nL 362.5625 259.116562 \r\nL 362.5625 0 \r\nL 0 0 \r\nz\r\n\" style=\"fill:none;\"/>\r\n  </g>\r\n  <g id=\"axes_1\">\r\n   <g id=\"patch_2\">\r\n    <path d=\"M 20.5625 235.238437 \r\nL 355.3625 235.238437 \r\nL 355.3625 17.798437 \r\nL 20.5625 17.798437 \r\nz\r\n\" style=\"fill:#ffffff;\"/>\r\n   </g>\r\n   <g id=\"matplotlib.axis_1\">\r\n    <g id=\"xtick_1\">\r\n     <g id=\"line2d_1\">\r\n      <defs>\r\n       <path d=\"M 0 0 \r\nL 0 3.5 \r\n\" id=\"m4284982e5e\" style=\"stroke:#000000;stroke-width:0.8;\"/>\r\n      </defs>\r\n      <g>\r\n       <use style=\"stroke:#000000;stroke-width:0.8;\" x=\"35.780682\" xlink:href=\"#m4284982e5e\" y=\"235.238437\"/>\r\n      </g>\r\n     </g>\r\n     <g id=\"text_1\">\r\n      <!-- 0 -->\r\n      <defs>\r\n       <path d=\"M 31.78125 66.40625 \r\nQ 24.171875 66.40625 20.328125 58.90625 \r\nQ 16.5 51.421875 16.5 36.375 \r\nQ 16.5 21.390625 20.328125 13.890625 \r\nQ 24.171875 6.390625 31.78125 6.390625 \r\nQ 39.453125 6.390625 43.28125 13.890625 \r\nQ 47.125 21.390625 47.125 36.375 \r\nQ 47.125 51.421875 43.28125 58.90625 \r\nQ 39.453125 66.40625 31.78125 66.40625 \r\nz\r\nM 31.78125 74.21875 \r\nQ 44.046875 74.21875 50.515625 64.515625 \r\nQ 56.984375 54.828125 56.984375 36.375 \r\nQ 56.984375 17.96875 50.515625 8.265625 \r\nQ 44.046875 -1.421875 31.78125 -1.421875 \r\nQ 19.53125 -1.421875 13.0625 8.265625 \r\nQ 6.59375 17.96875 6.59375 36.375 \r\nQ 6.59375 54.828125 13.0625 64.515625 \r\nQ 19.53125 74.21875 31.78125 74.21875 \r\nz\r\n\" id=\"DejaVuSans-48\"/>\r\n      </defs>\r\n      <g transform=\"translate(32.599432 249.836875)scale(0.1 -0.1)\">\r\n       <use xlink:href=\"#DejaVuSans-48\"/>\r\n      </g>\r\n     </g>\r\n    </g>\r\n    <g id=\"xtick_2\">\r\n     <g id=\"line2d_2\">\r\n      <g>\r\n       <use style=\"stroke:#000000;stroke-width:0.8;\" x=\"97.89571\" xlink:href=\"#m4284982e5e\" y=\"235.238437\"/>\r\n      </g>\r\n     </g>\r\n     <g id=\"text_2\">\r\n      <!-- 10 -->\r\n      <defs>\r\n       <path d=\"M 12.40625 8.296875 \r\nL 28.515625 8.296875 \r\nL 28.515625 63.921875 \r\nL 10.984375 60.40625 \r\nL 10.984375 69.390625 \r\nL 28.421875 72.90625 \r\nL 38.28125 72.90625 \r\nL 38.28125 8.296875 \r\nL 54.390625 8.296875 \r\nL 54.390625 0 \r\nL 12.40625 0 \r\nz\r\n\" id=\"DejaVuSans-49\"/>\r\n      </defs>\r\n      <g transform=\"translate(91.53321 249.836875)scale(0.1 -0.1)\">\r\n       <use xlink:href=\"#DejaVuSans-49\"/>\r\n       <use x=\"63.623047\" xlink:href=\"#DejaVuSans-48\"/>\r\n      </g>\r\n     </g>\r\n    </g>\r\n    <g id=\"xtick_3\">\r\n     <g id=\"line2d_3\">\r\n      <g>\r\n       <use style=\"stroke:#000000;stroke-width:0.8;\" x=\"160.010737\" xlink:href=\"#m4284982e5e\" y=\"235.238437\"/>\r\n      </g>\r\n     </g>\r\n     <g id=\"text_3\">\r\n      <!-- 20 -->\r\n      <defs>\r\n       <path d=\"M 19.1875 8.296875 \r\nL 53.609375 8.296875 \r\nL 53.609375 0 \r\nL 7.328125 0 \r\nL 7.328125 8.296875 \r\nQ 12.9375 14.109375 22.625 23.890625 \r\nQ 32.328125 33.6875 34.8125 36.53125 \r\nQ 39.546875 41.84375 41.421875 45.53125 \r\nQ 43.3125 49.21875 43.3125 52.78125 \r\nQ 43.3125 58.59375 39.234375 62.25 \r\nQ 35.15625 65.921875 28.609375 65.921875 \r\nQ 23.96875 65.921875 18.8125 64.3125 \r\nQ 13.671875 62.703125 7.8125 59.421875 \r\nL 7.8125 69.390625 \r\nQ 13.765625 71.78125 18.9375 73 \r\nQ 24.125 74.21875 28.421875 74.21875 \r\nQ 39.75 74.21875 46.484375 68.546875 \r\nQ 53.21875 62.890625 53.21875 53.421875 \r\nQ 53.21875 48.921875 51.53125 44.890625 \r\nQ 49.859375 40.875 45.40625 35.40625 \r\nQ 44.1875 33.984375 37.640625 27.21875 \r\nQ 31.109375 20.453125 19.1875 8.296875 \r\nz\r\n\" id=\"DejaVuSans-50\"/>\r\n      </defs>\r\n      <g transform=\"translate(153.648237 249.836875)scale(0.1 -0.1)\">\r\n       <use xlink:href=\"#DejaVuSans-50\"/>\r\n       <use x=\"63.623047\" xlink:href=\"#DejaVuSans-48\"/>\r\n      </g>\r\n     </g>\r\n    </g>\r\n    <g id=\"xtick_4\">\r\n     <g id=\"line2d_4\">\r\n      <g>\r\n       <use style=\"stroke:#000000;stroke-width:0.8;\" x=\"222.125765\" xlink:href=\"#m4284982e5e\" y=\"235.238437\"/>\r\n      </g>\r\n     </g>\r\n     <g id=\"text_4\">\r\n      <!-- 30 -->\r\n      <defs>\r\n       <path d=\"M 40.578125 39.3125 \r\nQ 47.65625 37.796875 51.625 33 \r\nQ 55.609375 28.21875 55.609375 21.1875 \r\nQ 55.609375 10.40625 48.1875 4.484375 \r\nQ 40.765625 -1.421875 27.09375 -1.421875 \r\nQ 22.515625 -1.421875 17.65625 -0.515625 \r\nQ 12.796875 0.390625 7.625 2.203125 \r\nL 7.625 11.71875 \r\nQ 11.71875 9.328125 16.59375 8.109375 \r\nQ 21.484375 6.890625 26.8125 6.890625 \r\nQ 36.078125 6.890625 40.9375 10.546875 \r\nQ 45.796875 14.203125 45.796875 21.1875 \r\nQ 45.796875 27.640625 41.28125 31.265625 \r\nQ 36.765625 34.90625 28.71875 34.90625 \r\nL 20.21875 34.90625 \r\nL 20.21875 43.015625 \r\nL 29.109375 43.015625 \r\nQ 36.375 43.015625 40.234375 45.921875 \r\nQ 44.09375 48.828125 44.09375 54.296875 \r\nQ 44.09375 59.90625 40.109375 62.90625 \r\nQ 36.140625 65.921875 28.71875 65.921875 \r\nQ 24.65625 65.921875 20.015625 65.03125 \r\nQ 15.375 64.15625 9.8125 62.3125 \r\nL 9.8125 71.09375 \r\nQ 15.4375 72.65625 20.34375 73.4375 \r\nQ 25.25 74.21875 29.59375 74.21875 \r\nQ 40.828125 74.21875 47.359375 69.109375 \r\nQ 53.90625 64.015625 53.90625 55.328125 \r\nQ 53.90625 49.265625 50.4375 45.09375 \r\nQ 46.96875 40.921875 40.578125 39.3125 \r\nz\r\n\" id=\"DejaVuSans-51\"/>\r\n      </defs>\r\n      <g transform=\"translate(215.763265 249.836875)scale(0.1 -0.1)\">\r\n       <use xlink:href=\"#DejaVuSans-51\"/>\r\n       <use x=\"63.623047\" xlink:href=\"#DejaVuSans-48\"/>\r\n      </g>\r\n     </g>\r\n    </g>\r\n    <g id=\"xtick_5\">\r\n     <g id=\"line2d_5\">\r\n      <g>\r\n       <use style=\"stroke:#000000;stroke-width:0.8;\" x=\"284.240793\" xlink:href=\"#m4284982e5e\" y=\"235.238437\"/>\r\n      </g>\r\n     </g>\r\n     <g id=\"text_5\">\r\n      <!-- 40 -->\r\n      <defs>\r\n       <path d=\"M 37.796875 64.3125 \r\nL 12.890625 25.390625 \r\nL 37.796875 25.390625 \r\nz\r\nM 35.203125 72.90625 \r\nL 47.609375 72.90625 \r\nL 47.609375 25.390625 \r\nL 58.015625 25.390625 \r\nL 58.015625 17.1875 \r\nL 47.609375 17.1875 \r\nL 47.609375 0 \r\nL 37.796875 0 \r\nL 37.796875 17.1875 \r\nL 4.890625 17.1875 \r\nL 4.890625 26.703125 \r\nz\r\n\" id=\"DejaVuSans-52\"/>\r\n      </defs>\r\n      <g transform=\"translate(277.878293 249.836875)scale(0.1 -0.1)\">\r\n       <use xlink:href=\"#DejaVuSans-52\"/>\r\n       <use x=\"63.623047\" xlink:href=\"#DejaVuSans-48\"/>\r\n      </g>\r\n     </g>\r\n    </g>\r\n    <g id=\"xtick_6\">\r\n     <g id=\"line2d_6\">\r\n      <g>\r\n       <use style=\"stroke:#000000;stroke-width:0.8;\" x=\"346.355821\" xlink:href=\"#m4284982e5e\" y=\"235.238437\"/>\r\n      </g>\r\n     </g>\r\n     <g id=\"text_6\">\r\n      <!-- 50 -->\r\n      <defs>\r\n       <path d=\"M 10.796875 72.90625 \r\nL 49.515625 72.90625 \r\nL 49.515625 64.59375 \r\nL 19.828125 64.59375 \r\nL 19.828125 46.734375 \r\nQ 21.96875 47.46875 24.109375 47.828125 \r\nQ 26.265625 48.1875 28.421875 48.1875 \r\nQ 40.625 48.1875 47.75 41.5 \r\nQ 54.890625 34.8125 54.890625 23.390625 \r\nQ 54.890625 11.625 47.5625 5.09375 \r\nQ 40.234375 -1.421875 26.90625 -1.421875 \r\nQ 22.3125 -1.421875 17.546875 -0.640625 \r\nQ 12.796875 0.140625 7.71875 1.703125 \r\nL 7.71875 11.625 \r\nQ 12.109375 9.234375 16.796875 8.0625 \r\nQ 21.484375 6.890625 26.703125 6.890625 \r\nQ 35.15625 6.890625 40.078125 11.328125 \r\nQ 45.015625 15.765625 45.015625 23.390625 \r\nQ 45.015625 31 40.078125 35.4375 \r\nQ 35.15625 39.890625 26.703125 39.890625 \r\nQ 22.75 39.890625 18.8125 39.015625 \r\nQ 14.890625 38.140625 10.796875 36.28125 \r\nz\r\n\" id=\"DejaVuSans-53\"/>\r\n      </defs>\r\n      <g transform=\"translate(339.993321 249.836875)scale(0.1 -0.1)\">\r\n       <use xlink:href=\"#DejaVuSans-53\"/>\r\n       <use x=\"63.623047\" xlink:href=\"#DejaVuSans-48\"/>\r\n      </g>\r\n     </g>\r\n    </g>\r\n   </g>\r\n   <g id=\"matplotlib.axis_2\">\r\n    <g id=\"ytick_1\">\r\n     <g id=\"line2d_7\">\r\n      <defs>\r\n       <path d=\"M 0 0 \r\nL -3.5 0 \r\n\" id=\"m7fb10d504f\" style=\"stroke:#000000;stroke-width:0.8;\"/>\r\n      </defs>\r\n      <g>\r\n       <use style=\"stroke:#000000;stroke-width:0.8;\" x=\"20.5625\" xlink:href=\"#m7fb10d504f\" y=\"235.238437\"/>\r\n      </g>\r\n     </g>\r\n     <g id=\"text_7\">\r\n      <!-- 3 -->\r\n      <g transform=\"translate(7.2 239.037656)scale(0.1 -0.1)\">\r\n       <use xlink:href=\"#DejaVuSans-51\"/>\r\n      </g>\r\n     </g>\r\n    </g>\r\n    <g id=\"ytick_2\">\r\n     <g id=\"line2d_8\">\r\n      <g>\r\n       <use style=\"stroke:#000000;stroke-width:0.8;\" x=\"20.5625\" xlink:href=\"#m7fb10d504f\" y=\"191.750437\"/>\r\n      </g>\r\n     </g>\r\n     <g id=\"text_8\">\r\n      <!-- 4 -->\r\n      <g transform=\"translate(7.2 195.549656)scale(0.1 -0.1)\">\r\n       <use xlink:href=\"#DejaVuSans-52\"/>\r\n      </g>\r\n     </g>\r\n    </g>\r\n    <g id=\"ytick_3\">\r\n     <g id=\"line2d_9\">\r\n      <g>\r\n       <use style=\"stroke:#000000;stroke-width:0.8;\" x=\"20.5625\" xlink:href=\"#m7fb10d504f\" y=\"148.262437\"/>\r\n      </g>\r\n     </g>\r\n     <g id=\"text_9\">\r\n      <!-- 5 -->\r\n      <g transform=\"translate(7.2 152.061656)scale(0.1 -0.1)\">\r\n       <use xlink:href=\"#DejaVuSans-53\"/>\r\n      </g>\r\n     </g>\r\n    </g>\r\n    <g id=\"ytick_4\">\r\n     <g id=\"line2d_10\">\r\n      <g>\r\n       <use style=\"stroke:#000000;stroke-width:0.8;\" x=\"20.5625\" xlink:href=\"#m7fb10d504f\" y=\"104.774437\"/>\r\n      </g>\r\n     </g>\r\n     <g id=\"text_10\">\r\n      <!-- 6 -->\r\n      <defs>\r\n       <path d=\"M 33.015625 40.375 \r\nQ 26.375 40.375 22.484375 35.828125 \r\nQ 18.609375 31.296875 18.609375 23.390625 \r\nQ 18.609375 15.53125 22.484375 10.953125 \r\nQ 26.375 6.390625 33.015625 6.390625 \r\nQ 39.65625 6.390625 43.53125 10.953125 \r\nQ 47.40625 15.53125 47.40625 23.390625 \r\nQ 47.40625 31.296875 43.53125 35.828125 \r\nQ 39.65625 40.375 33.015625 40.375 \r\nz\r\nM 52.59375 71.296875 \r\nL 52.59375 62.3125 \r\nQ 48.875 64.0625 45.09375 64.984375 \r\nQ 41.3125 65.921875 37.59375 65.921875 \r\nQ 27.828125 65.921875 22.671875 59.328125 \r\nQ 17.53125 52.734375 16.796875 39.40625 \r\nQ 19.671875 43.65625 24.015625 45.921875 \r\nQ 28.375 48.1875 33.59375 48.1875 \r\nQ 44.578125 48.1875 50.953125 41.515625 \r\nQ 57.328125 34.859375 57.328125 23.390625 \r\nQ 57.328125 12.15625 50.6875 5.359375 \r\nQ 44.046875 -1.421875 33.015625 -1.421875 \r\nQ 20.359375 -1.421875 13.671875 8.265625 \r\nQ 6.984375 17.96875 6.984375 36.375 \r\nQ 6.984375 53.65625 15.1875 63.9375 \r\nQ 23.390625 74.21875 37.203125 74.21875 \r\nQ 40.921875 74.21875 44.703125 73.484375 \r\nQ 48.484375 72.75 52.59375 71.296875 \r\nz\r\n\" id=\"DejaVuSans-54\"/>\r\n      </defs>\r\n      <g transform=\"translate(7.2 108.573656)scale(0.1 -0.1)\">\r\n       <use xlink:href=\"#DejaVuSans-54\"/>\r\n      </g>\r\n     </g>\r\n    </g>\r\n    <g id=\"ytick_5\">\r\n     <g id=\"line2d_11\">\r\n      <g>\r\n       <use style=\"stroke:#000000;stroke-width:0.8;\" x=\"20.5625\" xlink:href=\"#m7fb10d504f\" y=\"61.286437\"/>\r\n      </g>\r\n     </g>\r\n     <g id=\"text_11\">\r\n      <!-- 7 -->\r\n      <defs>\r\n       <path d=\"M 8.203125 72.90625 \r\nL 55.078125 72.90625 \r\nL 55.078125 68.703125 \r\nL 28.609375 0 \r\nL 18.3125 0 \r\nL 43.21875 64.59375 \r\nL 8.203125 64.59375 \r\nz\r\n\" id=\"DejaVuSans-55\"/>\r\n      </defs>\r\n      <g transform=\"translate(7.2 65.085656)scale(0.1 -0.1)\">\r\n       <use xlink:href=\"#DejaVuSans-55\"/>\r\n      </g>\r\n     </g>\r\n    </g>\r\n    <g id=\"ytick_6\">\r\n     <g id=\"line2d_12\">\r\n      <g>\r\n       <use style=\"stroke:#000000;stroke-width:0.8;\" x=\"20.5625\" xlink:href=\"#m7fb10d504f\" y=\"17.798437\"/>\r\n      </g>\r\n     </g>\r\n     <g id=\"text_12\">\r\n      <!-- 8 -->\r\n      <defs>\r\n       <path d=\"M 31.78125 34.625 \r\nQ 24.75 34.625 20.71875 30.859375 \r\nQ 16.703125 27.09375 16.703125 20.515625 \r\nQ 16.703125 13.921875 20.71875 10.15625 \r\nQ 24.75 6.390625 31.78125 6.390625 \r\nQ 38.8125 6.390625 42.859375 10.171875 \r\nQ 46.921875 13.96875 46.921875 20.515625 \r\nQ 46.921875 27.09375 42.890625 30.859375 \r\nQ 38.875 34.625 31.78125 34.625 \r\nz\r\nM 21.921875 38.8125 \r\nQ 15.578125 40.375 12.03125 44.71875 \r\nQ 8.5 49.078125 8.5 55.328125 \r\nQ 8.5 64.0625 14.71875 69.140625 \r\nQ 20.953125 74.21875 31.78125 74.21875 \r\nQ 42.671875 74.21875 48.875 69.140625 \r\nQ 55.078125 64.0625 55.078125 55.328125 \r\nQ 55.078125 49.078125 51.53125 44.71875 \r\nQ 48 40.375 41.703125 38.8125 \r\nQ 48.828125 37.15625 52.796875 32.3125 \r\nQ 56.78125 27.484375 56.78125 20.515625 \r\nQ 56.78125 9.90625 50.3125 4.234375 \r\nQ 43.84375 -1.421875 31.78125 -1.421875 \r\nQ 19.734375 -1.421875 13.25 4.234375 \r\nQ 6.78125 9.90625 6.78125 20.515625 \r\nQ 6.78125 27.484375 10.78125 32.3125 \r\nQ 14.796875 37.15625 21.921875 38.8125 \r\nz\r\nM 18.3125 54.390625 \r\nQ 18.3125 48.734375 21.84375 45.5625 \r\nQ 25.390625 42.390625 31.78125 42.390625 \r\nQ 38.140625 42.390625 41.71875 45.5625 \r\nQ 45.3125 48.734375 45.3125 54.390625 \r\nQ 45.3125 60.0625 41.71875 63.234375 \r\nQ 38.140625 66.40625 31.78125 66.40625 \r\nQ 25.390625 66.40625 21.84375 63.234375 \r\nQ 18.3125 60.0625 18.3125 54.390625 \r\nz\r\n\" id=\"DejaVuSans-56\"/>\r\n      </defs>\r\n      <g transform=\"translate(7.2 21.597656)scale(0.1 -0.1)\">\r\n       <use xlink:href=\"#DejaVuSans-56\"/>\r\n      </g>\r\n     </g>\r\n    </g>\r\n    <g id=\"text_13\">\r\n     <!-- 1e7 -->\r\n     <defs>\r\n      <path d=\"M 56.203125 29.59375 \r\nL 56.203125 25.203125 \r\nL 14.890625 25.203125 \r\nQ 15.484375 15.921875 20.484375 11.0625 \r\nQ 25.484375 6.203125 34.421875 6.203125 \r\nQ 39.59375 6.203125 44.453125 7.46875 \r\nQ 49.3125 8.734375 54.109375 11.28125 \r\nL 54.109375 2.78125 \r\nQ 49.265625 0.734375 44.1875 -0.34375 \r\nQ 39.109375 -1.421875 33.890625 -1.421875 \r\nQ 20.796875 -1.421875 13.15625 6.1875 \r\nQ 5.515625 13.8125 5.515625 26.8125 \r\nQ 5.515625 40.234375 12.765625 48.109375 \r\nQ 20.015625 56 32.328125 56 \r\nQ 43.359375 56 49.78125 48.890625 \r\nQ 56.203125 41.796875 56.203125 29.59375 \r\nz\r\nM 47.21875 32.234375 \r\nQ 47.125 39.59375 43.09375 43.984375 \r\nQ 39.0625 48.390625 32.421875 48.390625 \r\nQ 24.90625 48.390625 20.390625 44.140625 \r\nQ 15.875 39.890625 15.1875 32.171875 \r\nz\r\n\" id=\"DejaVuSans-101\"/>\r\n     </defs>\r\n     <g transform=\"translate(20.5625 14.798437)scale(0.1 -0.1)\">\r\n      <use xlink:href=\"#DejaVuSans-49\"/>\r\n      <use x=\"63.623047\" xlink:href=\"#DejaVuSans-101\"/>\r\n      <use x=\"125.146484\" xlink:href=\"#DejaVuSans-55\"/>\r\n     </g>\r\n    </g>\r\n   </g>\r\n   <g id=\"line2d_13\">\r\n    <path clip-path=\"url(#p444aa24e7b)\" d=\"M 35.780682 127.007156 \r\nL 41.992185 124.875722 \r\nL 48.203687 127.002633 \r\nL 54.41519 126.840997 \r\nL 60.626693 127.611308 \r\nL 66.838196 127.849466 \r\nL 73.049699 126.713646 \r\nL 79.261201 127.105439 \r\nL 85.472704 124.92495 \r\nL 91.684207 126.702218 \r\nL 97.89571 126.987343 \r\nL 104.107212 126.532962 \r\nL 110.318715 127.094567 \r\nL 116.530218 127.924109 \r\nL 122.741721 128.134121 \r\nL 128.953224 126.375484 \r\nL 135.164726 124.895135 \r\nL 141.376229 126.554515 \r\nL 147.587732 126.82174 \r\nL 153.799235 126.540355 \r\nL 160.010737 125.607347 \r\nL 166.22224 126.845224 \r\nL 172.433743 126.731616 \r\nL 178.645246 126.06985 \r\nL 184.856749 127.132471 \r\nL 191.068251 126.935522 \r\nL 197.279754 127.520888 \r\nL 203.491257 122.680865 \r\nL 209.70276 126.509375 \r\nL 215.914263 125.556466 \r\nL 222.125765 124.43778 \r\nL 228.337268 124.901293 \r\nL 234.548771 126.126367 \r\nL 240.760274 125.979986 \r\nL 246.971776 125.911171 \r\nL 253.183279 127.778807 \r\nL 259.394782 125.912632 \r\nL 265.606285 125.437221 \r\nL 271.817788 124.1764 \r\nL 278.02929 126.783158 \r\nL 284.240793 127.394268 \r\nL 290.452296 127.431685 \r\nL 296.663799 127.533952 \r\nL 302.875301 126.938114 \r\nL 309.086804 126.463886 \r\nL 315.298307 127.808361 \r\nL 321.50981 126.308773 \r\nL 327.721313 126.59602 \r\nL 333.932815 126.251439 \r\nL 340.144318 125.817463 \r\n\" style=\"fill:none;stroke:#1f77b4;stroke-linecap:square;stroke-width:1.5;\"/>\r\n   </g>\r\n   <g id=\"line2d_14\"/>\r\n   <g id=\"patch_3\">\r\n    <path d=\"M 20.5625 235.238437 \r\nL 20.5625 17.798437 \r\n\" style=\"fill:none;stroke:#000000;stroke-linecap:square;stroke-linejoin:miter;stroke-width:0.8;\"/>\r\n   </g>\r\n   <g id=\"patch_4\">\r\n    <path d=\"M 355.3625 235.238437 \r\nL 355.3625 17.798437 \r\n\" style=\"fill:none;stroke:#000000;stroke-linecap:square;stroke-linejoin:miter;stroke-width:0.8;\"/>\r\n   </g>\r\n   <g id=\"patch_5\">\r\n    <path d=\"M 20.5625 235.238437 \r\nL 355.3625 235.238437 \r\n\" style=\"fill:none;stroke:#000000;stroke-linecap:square;stroke-linejoin:miter;stroke-width:0.8;\"/>\r\n   </g>\r\n   <g id=\"patch_6\">\r\n    <path d=\"M 20.5625 17.798437 \r\nL 355.3625 17.798437 \r\n\" style=\"fill:none;stroke:#000000;stroke-linecap:square;stroke-linejoin:miter;stroke-width:0.8;\"/>\r\n   </g>\r\n   <g id=\"legend_1\">\r\n    <g id=\"patch_7\">\r\n     <path d=\"M 310 40.476562 \r\nL 348.3625 40.476562 \r\nQ 350.3625 40.476562 350.3625 38.476562 \r\nL 350.3625 24.798437 \r\nQ 350.3625 22.798437 348.3625 22.798437 \r\nL 310 22.798437 \r\nQ 308 22.798437 308 24.798437 \r\nL 308 38.476562 \r\nQ 308 40.476562 310 40.476562 \r\nz\r\n\" style=\"fill:#ffffff;opacity:0.8;stroke:#cccccc;stroke-linejoin:miter;\"/>\r\n    </g>\r\n    <g id=\"line2d_15\">\r\n     <path d=\"M 312 30.896875 \r\nL 332 30.896875 \r\n\" style=\"fill:none;stroke:#1f77b4;stroke-linecap:square;stroke-width:1.5;\"/>\r\n    </g>\r\n    <g id=\"line2d_16\"/>\r\n    <g id=\"text_14\">\r\n     <!-- 0 -->\r\n     <g transform=\"translate(340 34.396875)scale(0.1 -0.1)\">\r\n      <use xlink:href=\"#DejaVuSans-48\"/>\r\n     </g>\r\n    </g>\r\n   </g>\r\n  </g>\r\n </g>\r\n <defs>\r\n  <clipPath id=\"p444aa24e7b\">\r\n   <rect height=\"217.44\" width=\"334.8\" x=\"20.5625\" y=\"17.798437\"/>\r\n  </clipPath>\r\n </defs>\r\n</svg>\r\n",
      "image/png": "[encoded data removed]"
     },
     "metadata": {
      "needs_background": "light"
     }
    }
   ],
   "source": [
    "plt.ylim(0.3e8, 0.8e8)\n",
    "sns.lineplot(data=pd.DataFrame(history.history['val_loss']))"
   ]
  },
  {
   "cell_type": "code",
   "execution_count": null,
   "metadata": {},
   "outputs": [],
   "source": []
  }
 ],
 "metadata": {
  "kernelspec": {
   "display_name": "Python 3",
   "language": "python",
   "name": "python3"
  },
  "language_info": {
   "codemirror_mode": {
    "name": "ipython",
    "version": 3
   },
   "file_extension": ".py",
   "mimetype": "text/x-python",
   "name": "python",
   "nbconvert_exporter": "python",
   "pygments_lexer": "ipython3",
   "version": "3.8.3-final"
  },
  "nav_menu": {
   "height": "264px",
   "width": "369px"
  },
  "toc": {
   "navigate_menu": true,
   "number_sections": true,
   "sideBar": true,
   "threshold": 6,
   "toc_cell": false,
   "toc_section_display": "block",
   "toc_window_display": false
  }
 },
 "nbformat": 4,
 "nbformat_minor": 4
}