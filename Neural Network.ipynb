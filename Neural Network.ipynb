{
 "cells": [
  {
   "cell_type": "code",
   "execution_count": 31,
   "metadata": {},
   "outputs": [],
   "source": [
    "import pandas as pd\n",
    "import numpy as np\n",
    "import matplotlib.pyplot as plt\n",
    "import tensorflow as tf\n",
    "from math import sqrt\n",
    "from tensorflow import keras\n",
    "from sklearn.model_selection import train_test_split\n",
    "from sklearn.preprocessing import StandardScaler\n",
    "from sklearn.metrics import r2_score"
   ]
  },
  {
   "cell_type": "code",
   "execution_count": 2,
   "metadata": {},
   "outputs": [],
   "source": [
    "#preprocessing\n",
    "data_orig = pd.read_csv('OnlineNewsPopularity.csv', sep=', ')\n",
    "data_orig = data_orig.dropna()\n",
    "\n",
    "#remove awful outlier 31038\n",
    "data_orig.drop(31038, axis=0, inplace=True)\n",
    "\n",
    "columns = list(data_orig)\n",
    "bestindex = [7, 18, 24, 26, 27, 28, 29, 30, 41, 42]\n",
    "bestcol = [columns[i] for i in bestindex]\n",
    "\n",
    "data = data_orig[bestcol].to_numpy()\n",
    "\n",
    "samples = data\n",
    "classes = data_orig[\"shares\"].to_numpy()\n",
    "\n",
    "samples = np.asarray(samples).astype(np.float32)\n",
    "classes = np.asarray(classes).astype(np.float32)\n",
    "\n",
    "X_train_full, X_test, y_train_full, y_test = train_test_split(samples, classes)\n",
    "X_train, X_valid, y_train, y_valid = train_test_split(X_train_full, y_train_full)\n",
    "\n",
    "scaler = StandardScaler()\n",
    "X_train = scaler.fit_transform(X_train)\n",
    "X_valid = scaler.transform(X_valid)\n",
    "X_test = scaler.transform(X_test)"
   ]
  },
  {
   "cell_type": "code",
   "execution_count": 3,
   "metadata": {},
   "outputs": [
    {
     "output_type": "stream",
     "name": "stdout",
     "text": [
      "Epoch 1/50\n",
      "697/697 [==============================] - 1s 817us/step - loss: 120215992.0000 - val_loss: 257394736.0000\n",
      "Epoch 2/50\n",
      "697/697 [==============================] - 0s 616us/step - loss: 119703824.0000 - val_loss: 257238016.0000\n",
      "Epoch 3/50\n",
      "697/697 [==============================] - 0s 671us/step - loss: 119727000.0000 - val_loss: 257190832.0000\n",
      "Epoch 4/50\n",
      "697/697 [==============================] - 1s 751us/step - loss: 119796976.0000 - val_loss: 256763728.0000\n",
      "Epoch 5/50\n",
      "697/697 [==============================] - 0s 681us/step - loss: 119604976.0000 - val_loss: 257118256.0000\n",
      "Epoch 6/50\n",
      "697/697 [==============================] - 0s 619us/step - loss: 119647440.0000 - val_loss: 256737360.0000\n",
      "Epoch 7/50\n",
      "697/697 [==============================] - 0s 656us/step - loss: 119741888.0000 - val_loss: 257092256.0000\n",
      "Epoch 8/50\n",
      "697/697 [==============================] - 0s 616us/step - loss: 119732752.0000 - val_loss: 256774176.0000\n",
      "Epoch 9/50\n",
      "697/697 [==============================] - 0s 624us/step - loss: 119623320.0000 - val_loss: 257123552.0000\n",
      "Epoch 10/50\n",
      "697/697 [==============================] - 0s 626us/step - loss: 119757640.0000 - val_loss: 256525472.0000\n",
      "Epoch 11/50\n",
      "697/697 [==============================] - 1s 719us/step - loss: 119545872.0000 - val_loss: 257055664.0000\n",
      "Epoch 12/50\n",
      "697/697 [==============================] - 1s 734us/step - loss: 119582744.0000 - val_loss: 257304992.0000\n",
      "Epoch 13/50\n",
      "697/697 [==============================] - 0s 707us/step - loss: 119592976.0000 - val_loss: 256895376.0000\n",
      "Epoch 14/50\n",
      "697/697 [==============================] - 1s 719us/step - loss: 119601792.0000 - val_loss: 256809072.0000\n",
      "Epoch 15/50\n",
      "697/697 [==============================] - 0s 648us/step - loss: 119695848.0000 - val_loss: 257222560.0000\n",
      "Epoch 16/50\n",
      "697/697 [==============================] - 0s 625us/step - loss: 119699128.0000 - val_loss: 256998032.0000\n",
      "Epoch 17/50\n",
      "697/697 [==============================] - 0s 644us/step - loss: 119619376.0000 - val_loss: 256542400.0000\n",
      "Epoch 18/50\n",
      "697/697 [==============================] - 0s 624us/step - loss: 119590976.0000 - val_loss: 256863984.0000\n",
      "Epoch 19/50\n",
      "697/697 [==============================] - 0s 621us/step - loss: 119629152.0000 - val_loss: 256834608.0000\n",
      "Epoch 20/50\n",
      "697/697 [==============================] - 0s 623us/step - loss: 119596536.0000 - val_loss: 256745520.0000\n",
      "Epoch 21/50\n",
      "697/697 [==============================] - 0s 616us/step - loss: 119646920.0000 - val_loss: 256911984.0000\n",
      "Epoch 22/50\n",
      "697/697 [==============================] - 0s 620us/step - loss: 119556888.0000 - val_loss: 256821904.0000\n",
      "Epoch 23/50\n",
      "697/697 [==============================] - 0s 618us/step - loss: 119571520.0000 - val_loss: 256484464.0000\n",
      "Epoch 24/50\n",
      "697/697 [==============================] - 0s 631us/step - loss: 119762896.0000 - val_loss: 256667232.0000\n",
      "Epoch 25/50\n",
      "697/697 [==============================] - 0s 656us/step - loss: 119594008.0000 - val_loss: 256712512.0000\n",
      "Epoch 26/50\n",
      "697/697 [==============================] - 0s 617us/step - loss: 119705680.0000 - val_loss: 257203456.0000\n",
      "Epoch 27/50\n",
      "697/697 [==============================] - 0s 634us/step - loss: 119838072.0000 - val_loss: 257263920.0000\n",
      "Epoch 28/50\n",
      "697/697 [==============================] - 0s 614us/step - loss: 119779968.0000 - val_loss: 257244912.0000\n",
      "Epoch 29/50\n",
      "697/697 [==============================] - 0s 637us/step - loss: 119601320.0000 - val_loss: 257127392.0000\n",
      "Epoch 30/50\n",
      "697/697 [==============================] - 0s 636us/step - loss: 119792192.0000 - val_loss: 257269008.0000\n",
      "Epoch 31/50\n",
      "697/697 [==============================] - 0s 638us/step - loss: 119860504.0000 - val_loss: 257546080.0000\n",
      "Epoch 32/50\n",
      "697/697 [==============================] - 0s 621us/step - loss: 119860480.0000 - val_loss: 257396640.0000\n",
      "Epoch 33/50\n",
      "697/697 [==============================] - 0s 641us/step - loss: 119761088.0000 - val_loss: 257558016.0000\n",
      "Epoch 34/50\n",
      "697/697 [==============================] - 0s 624us/step - loss: 119668168.0000 - val_loss: 257409136.0000\n",
      "Epoch 35/50\n",
      "697/697 [==============================] - 0s 660us/step - loss: 119636768.0000 - val_loss: 257387968.0000\n",
      "Epoch 36/50\n",
      "697/697 [==============================] - 0s 650us/step - loss: 119656096.0000 - val_loss: 257313680.0000\n",
      "Epoch 37/50\n",
      "697/697 [==============================] - 0s 620us/step - loss: 119613936.0000 - val_loss: 257516576.0000\n",
      "Epoch 38/50\n",
      "697/697 [==============================] - 0s 677us/step - loss: 119705664.0000 - val_loss: 257459552.0000\n",
      "Epoch 39/50\n",
      "697/697 [==============================] - 0s 641us/step - loss: 119691032.0000 - val_loss: 257022848.0000\n",
      "Epoch 40/50\n",
      "697/697 [==============================] - 0s 639us/step - loss: 119740656.0000 - val_loss: 256990464.0000\n",
      "Epoch 41/50\n",
      "697/697 [==============================] - 0s 631us/step - loss: 119630608.0000 - val_loss: 256860784.0000\n",
      "Epoch 42/50\n",
      "697/697 [==============================] - 1s 720us/step - loss: 119575056.0000 - val_loss: 256787648.0000\n",
      "Epoch 43/50\n",
      "697/697 [==============================] - 0s 636us/step - loss: 119599288.0000 - val_loss: 256775936.0000\n",
      "Epoch 44/50\n",
      "697/697 [==============================] - 0s 669us/step - loss: 119658560.0000 - val_loss: 256770032.0000\n",
      "Epoch 45/50\n",
      "697/697 [==============================] - 0s 660us/step - loss: 119660192.0000 - val_loss: 256860016.0000\n",
      "Epoch 46/50\n",
      "697/697 [==============================] - 0s 643us/step - loss: 119607808.0000 - val_loss: 256878528.0000\n",
      "Epoch 47/50\n",
      "697/697 [==============================] - 0s 639us/step - loss: 119532656.0000 - val_loss: 256901472.0000\n",
      "Epoch 48/50\n",
      "697/697 [==============================] - 0s 669us/step - loss: 119572568.0000 - val_loss: 256791920.0000\n",
      "Epoch 49/50\n",
      "697/697 [==============================] - 0s 664us/step - loss: 119573648.0000 - val_loss: 256753312.0000\n",
      "Epoch 50/50\n",
      "697/697 [==============================] - 0s 642us/step - loss: 119563824.0000 - val_loss: 257374928.0000\n"
     ]
    }
   ],
   "source": [
    "#train\n",
    "model = keras.models.Sequential([\n",
    "    keras.layers.Dense(30, activation=\"sigmoid\", input_shape=X_train.shape[1:]),\n",
    "    keras.layers.Dense(1)\n",
    "])\n",
    "model.compile(loss=\"mean_squared_error\", optimizer=keras.optimizers.SGD(lr=1e-3))\n",
    "history = model.fit(X_train, y_train, epochs=50, validation_data=(X_valid, y_valid))"
   ]
  },
  {
   "cell_type": "code",
   "execution_count": 4,
   "metadata": {},
   "outputs": [
    {
     "output_type": "stream",
     "name": "stdout",
     "text": [
      "233/233 [==============================] - 0s 570us/step - loss: 257374928.0000\n"
     ]
    }
   ],
   "source": [
    "#validate\n",
    "mse_test = model.evaluate(X_valid, y_valid)"
   ]
  },
  {
   "cell_type": "code",
   "execution_count": 5,
   "metadata": {},
   "outputs": [
    {
     "output_type": "stream",
     "name": "stdout",
     "text": [
      "0.02567383949489377\n"
     ]
    }
   ],
   "source": [
    "#test\n",
    "y_pred = model.predict(X_test)\n",
    "print(r2_score(y_test, y_pred))"
   ]
  },
  {
   "cell_type": "code",
   "execution_count": 33,
   "metadata": {},
   "outputs": [],
   "source": [
    "best_six_indeces = [26, 27, 28, 30, 41, 42]\n",
    "best_six_columns = [columns[i] for i in best_six_indeces]\n",
    "\n",
    "data = data_orig[best_six_columns].to_numpy()\n",
    "samples = data\n",
    "\n",
    "samples = np.asarray(samples).astype(np.float32)\n",
    "classes = np.asarray(classes).astype(np.float32)\n",
    "\n",
    "X_train_full, X_test, y_train_full, y_test = train_test_split(samples, classes)\n",
    "X_train, X_valid, y_train, y_valid = train_test_split(X_train_full, y_train_full)\n",
    "\n",
    "scaler = StandardScaler()\n",
    "X_train = scaler.fit_transform(X_train)\n",
    "X_valid = scaler.transform(X_valid)\n",
    "X_test = scaler.transform(X_test)"
   ]
  },
  {
   "cell_type": "code",
   "execution_count": 34,
   "metadata": {},
   "outputs": [
    {
     "output_type": "stream",
     "name": "stdout",
     "text": [
      "Epoch 1/50\n",
      "697/697 [==============================] - 1s 843us/step - loss: 191237424.0000 - val_loss: 54887620.0000\n",
      "Epoch 2/50\n",
      "697/697 [==============================] - 0s 608us/step - loss: 190854816.0000 - val_loss: 55377740.0000\n",
      "Epoch 3/50\n",
      "697/697 [==============================] - 0s 679us/step - loss: 190903328.0000 - val_loss: 54888660.0000\n",
      "Epoch 4/50\n",
      "697/697 [==============================] - 0s 664us/step - loss: 190851008.0000 - val_loss: 54925828.0000\n",
      "Epoch 5/50\n",
      "697/697 [==============================] - 0s 629us/step - loss: 190788832.0000 - val_loss: 54748696.0000\n",
      "Epoch 6/50\n",
      "697/697 [==============================] - 0s 641us/step - loss: 190541088.0000 - val_loss: 54693932.0000\n",
      "Epoch 7/50\n",
      "697/697 [==============================] - 0s 706us/step - loss: 190876976.0000 - val_loss: 54955112.0000\n",
      "Epoch 8/50\n",
      "697/697 [==============================] - 0s 621us/step - loss: 190902368.0000 - val_loss: 54865020.0000\n",
      "Epoch 9/50\n",
      "697/697 [==============================] - 0s 639us/step - loss: 190752864.0000 - val_loss: 55366420.0000\n",
      "Epoch 10/50\n",
      "697/697 [==============================] - 0s 651us/step - loss: 190875696.0000 - val_loss: 54957740.0000\n",
      "Epoch 11/50\n",
      "697/697 [==============================] - 0s 683us/step - loss: 190857440.0000 - val_loss: 54892176.0000\n",
      "Epoch 12/50\n",
      "697/697 [==============================] - 0s 631us/step - loss: 190715520.0000 - val_loss: 54996660.0000\n",
      "Epoch 13/50\n",
      "697/697 [==============================] - 0s 630us/step - loss: 190655296.0000 - val_loss: 54867520.0000\n",
      "Epoch 14/50\n",
      "697/697 [==============================] - 0s 663us/step - loss: 190541216.0000 - val_loss: 54676768.0000\n",
      "Epoch 15/50\n",
      "697/697 [==============================] - 0s 634us/step - loss: 190560160.0000 - val_loss: 54628476.0000\n",
      "Epoch 16/50\n",
      "697/697 [==============================] - 0s 643us/step - loss: 190756224.0000 - val_loss: 55032872.0000\n",
      "Epoch 17/50\n",
      "697/697 [==============================] - 0s 627us/step - loss: 190861600.0000 - val_loss: 55373276.0000\n",
      "Epoch 18/50\n",
      "697/697 [==============================] - 0s 660us/step - loss: 190881296.0000 - val_loss: 54991704.0000\n",
      "Epoch 19/50\n",
      "697/697 [==============================] - 0s 624us/step - loss: 190727936.0000 - val_loss: 54930256.0000\n",
      "Epoch 20/50\n",
      "697/697 [==============================] - 1s 770us/step - loss: 190729536.0000 - val_loss: 54994960.0000\n",
      "Epoch 21/50\n",
      "697/697 [==============================] - 0s 624us/step - loss: 190720208.0000 - val_loss: 55209504.0000\n",
      "Epoch 22/50\n",
      "697/697 [==============================] - 0s 661us/step - loss: 190815312.0000 - val_loss: 54924856.0000\n",
      "Epoch 23/50\n",
      "697/697 [==============================] - 0s 689us/step - loss: 190918000.0000 - val_loss: 54950980.0000\n",
      "Epoch 24/50\n",
      "697/697 [==============================] - 0s 680us/step - loss: 190875728.0000 - val_loss: 55103152.0000\n",
      "Epoch 25/50\n",
      "697/697 [==============================] - 0s 614us/step - loss: 190747072.0000 - val_loss: 54858804.0000\n",
      "Epoch 26/50\n",
      "697/697 [==============================] - 0s 670us/step - loss: 190705872.0000 - val_loss: 54904092.0000\n",
      "Epoch 27/50\n",
      "697/697 [==============================] - 0s 639us/step - loss: 190656672.0000 - val_loss: 54769488.0000\n",
      "Epoch 28/50\n",
      "697/697 [==============================] - 0s 635us/step - loss: 190616144.0000 - val_loss: 55882444.0000\n",
      "Epoch 29/50\n",
      "697/697 [==============================] - 0s 677us/step - loss: 190729584.0000 - val_loss: 55002084.0000\n",
      "Epoch 30/50\n",
      "697/697 [==============================] - 0s 636us/step - loss: 190708128.0000 - val_loss: 55221204.0000\n",
      "Epoch 31/50\n",
      "697/697 [==============================] - 0s 661us/step - loss: 190743328.0000 - val_loss: 55478444.0000\n",
      "Epoch 32/50\n",
      "697/697 [==============================] - 0s 644us/step - loss: 190592752.0000 - val_loss: 55371860.0000\n",
      "Epoch 33/50\n",
      "697/697 [==============================] - 0s 642us/step - loss: 190526112.0000 - val_loss: 55090156.0000\n",
      "Epoch 34/50\n",
      "697/697 [==============================] - 0s 651us/step - loss: 190735744.0000 - val_loss: 55123816.0000\n",
      "Epoch 35/50\n",
      "697/697 [==============================] - 0s 661us/step - loss: 190610080.0000 - val_loss: 55139640.0000\n",
      "Epoch 36/50\n",
      "697/697 [==============================] - 0s 638us/step - loss: 190373008.0000 - val_loss: 54710180.0000\n",
      "Epoch 37/50\n",
      "697/697 [==============================] - 0s 639us/step - loss: 190314704.0000 - val_loss: 55139304.0000\n",
      "Epoch 38/50\n",
      "697/697 [==============================] - 0s 669us/step - loss: 190990736.0000 - val_loss: 55248624.0000\n",
      "Epoch 39/50\n",
      "697/697 [==============================] - 0s 636us/step - loss: 190906352.0000 - val_loss: 55538548.0000\n",
      "Epoch 40/50\n",
      "697/697 [==============================] - 0s 639us/step - loss: 190932464.0000 - val_loss: 54939128.0000\n",
      "Epoch 41/50\n",
      "697/697 [==============================] - 0s 641us/step - loss: 190855968.0000 - val_loss: 54798604.0000\n",
      "Epoch 42/50\n",
      "697/697 [==============================] - 0s 665us/step - loss: 190848720.0000 - val_loss: 54790000.0000\n",
      "Epoch 43/50\n",
      "697/697 [==============================] - 0s 632us/step - loss: 190788608.0000 - val_loss: 54766484.0000\n",
      "Epoch 44/50\n",
      "697/697 [==============================] - 1s 825us/step - loss: 190730992.0000 - val_loss: 54903496.0000\n",
      "Epoch 45/50\n",
      "697/697 [==============================] - 0s 694us/step - loss: 190677136.0000 - val_loss: 55012544.0000\n",
      "Epoch 46/50\n",
      "697/697 [==============================] - 0s 691us/step - loss: 190727632.0000 - val_loss: 54703384.0000\n",
      "Epoch 47/50\n",
      "697/697 [==============================] - 1s 731us/step - loss: 190651744.0000 - val_loss: 55048212.0000\n",
      "Epoch 48/50\n",
      "697/697 [==============================] - 1s 775us/step - loss: 190836288.0000 - val_loss: 54982160.0000\n",
      "Epoch 49/50\n",
      "697/697 [==============================] - 0s 689us/step - loss: 190806976.0000 - val_loss: 55061396.0000\n",
      "Epoch 50/50\n",
      "697/697 [==============================] - 0s 667us/step - loss: 190806112.0000 - val_loss: 55161188.0000\n"
     ]
    }
   ],
   "source": [
    "#train\n",
    "model = keras.models.Sequential([\n",
    "    keras.layers.Dense(30, activation=\"sigmoid\", input_shape=X_train.shape[1:]),\n",
    "    keras.layers.Dense(1)\n",
    "])\n",
    "model.compile(loss=\"mean_squared_error\", optimizer=keras.optimizers.SGD(lr=1e-3))\n",
    "history = model.fit(X_train, y_train, epochs=50, validation_data=(X_valid, y_valid))"
   ]
  },
  {
   "cell_type": "code",
   "execution_count": 35,
   "metadata": {},
   "outputs": [
    {
     "output_type": "stream",
     "name": "stdout",
     "text": [
      "233/233 [==============================] - 0s 560us/step - loss: 55161188.0000\n"
     ]
    }
   ],
   "source": [
    "#validate\n",
    "mse_test = model.evaluate(X_valid, y_valid)"
   ]
  },
  {
   "cell_type": "code",
   "execution_count": 36,
   "metadata": {},
   "outputs": [
    {
     "output_type": "stream",
     "name": "stdout",
     "text": [
      "0.021483077346698853\n"
     ]
    }
   ],
   "source": [
    "#test\n",
    "y_pred = model.predict(X_test)\n",
    "print(r2_score(y_test, y_pred))"
   ]
  },
  {
   "cell_type": "code",
   "execution_count": 21,
   "metadata": {},
   "outputs": [],
   "source": [
    "best_twenty_indeces = [7,9,10,11,18,20,21,24,25,26,27,28,29,30,41,42,44,53,56,59]\n",
    "best_twenty_columns = [columns[i] for i in best_twenty_indeces]\n",
    "\n",
    "data = data_orig[best_twenty_columns].to_numpy()\n",
    "samples = data\n",
    "\n",
    "samples = np.asarray(samples).astype(np.float32)\n",
    "classes = np.asarray(classes).astype(np.float32)\n",
    "\n",
    "X_train_full, X_test, y_train_full, y_test = train_test_split(samples, classes)\n",
    "X_train, X_valid, y_train, y_valid = train_test_split(X_train_full, y_train_full)\n",
    "\n",
    "scaler = StandardScaler()\n",
    "X_train = scaler.fit_transform(X_train)\n",
    "X_valid = scaler.transform(X_valid)\n",
    "X_test = scaler.transform(X_test)"
   ]
  },
  {
   "cell_type": "code",
   "execution_count": 22,
   "metadata": {},
   "outputs": [
    {
     "output_type": "stream",
     "name": "stdout",
     "text": [
      "Epoch 1/50\n",
      "697/697 [==============================] - 1s 815us/step - loss: 169223088.0000 - val_loss: 121499440.0000\n",
      "Epoch 2/50\n",
      "697/697 [==============================] - 1s 744us/step - loss: 168792768.0000 - val_loss: 121764360.0000\n",
      "Epoch 3/50\n",
      "697/697 [==============================] - 0s 638us/step - loss: 168527376.0000 - val_loss: 121947840.0000\n",
      "Epoch 4/50\n",
      "697/697 [==============================] - 0s 631us/step - loss: 168553504.0000 - val_loss: 121819592.0000\n",
      "Epoch 5/50\n",
      "697/697 [==============================] - 0s 630us/step - loss: 168670656.0000 - val_loss: 122001288.0000\n",
      "Epoch 6/50\n",
      "697/697 [==============================] - 0s 675us/step - loss: 168610176.0000 - val_loss: 121733696.0000\n",
      "Epoch 7/50\n",
      "697/697 [==============================] - 0s 672us/step - loss: 168457920.0000 - val_loss: 121580744.0000\n",
      "Epoch 8/50\n",
      "697/697 [==============================] - 0s 638us/step - loss: 168492928.0000 - val_loss: 121591320.0000\n",
      "Epoch 9/50\n",
      "697/697 [==============================] - 0s 628us/step - loss: 168469424.0000 - val_loss: 121625080.0000\n",
      "Epoch 10/50\n",
      "697/697 [==============================] - 0s 646us/step - loss: 168710976.0000 - val_loss: 121709448.0000\n",
      "Epoch 11/50\n",
      "697/697 [==============================] - 0s 666us/step - loss: 168837792.0000 - val_loss: 121812176.0000\n",
      "Epoch 12/50\n",
      "697/697 [==============================] - 1s 724us/step - loss: 168692576.0000 - val_loss: 121935288.0000\n",
      "Epoch 13/50\n",
      "697/697 [==============================] - 1s 725us/step - loss: 168801120.0000 - val_loss: 121979784.0000\n",
      "Epoch 14/50\n",
      "697/697 [==============================] - 0s 626us/step - loss: 168733824.0000 - val_loss: 122010728.0000\n",
      "Epoch 15/50\n",
      "697/697 [==============================] - 0s 635us/step - loss: 168709232.0000 - val_loss: 121842104.0000\n",
      "Epoch 16/50\n",
      "697/697 [==============================] - 0s 624us/step - loss: 168584048.0000 - val_loss: 121677176.0000\n",
      "Epoch 17/50\n",
      "697/697 [==============================] - 0s 694us/step - loss: 168677824.0000 - val_loss: 121608048.0000\n",
      "Epoch 18/50\n",
      "697/697 [==============================] - 0s 656us/step - loss: 168808656.0000 - val_loss: 121510048.0000\n",
      "Epoch 19/50\n",
      "697/697 [==============================] - 0s 654us/step - loss: 168812736.0000 - val_loss: 121691288.0000\n",
      "Epoch 20/50\n",
      "697/697 [==============================] - 1s 743us/step - loss: 168653776.0000 - val_loss: 121599128.0000\n",
      "Epoch 21/50\n",
      "697/697 [==============================] - 0s 679us/step - loss: 168752080.0000 - val_loss: 121610464.0000\n",
      "Epoch 22/50\n",
      "697/697 [==============================] - 0s 690us/step - loss: 168821056.0000 - val_loss: 121562232.0000\n",
      "Epoch 23/50\n",
      "697/697 [==============================] - 0s 676us/step - loss: 168831552.0000 - val_loss: 121558936.0000\n",
      "Epoch 24/50\n",
      "697/697 [==============================] - 0s 637us/step - loss: 168741936.0000 - val_loss: 121506320.0000\n",
      "Epoch 25/50\n",
      "697/697 [==============================] - 0s 693us/step - loss: 168786848.0000 - val_loss: 121470712.0000\n",
      "Epoch 26/50\n",
      "697/697 [==============================] - 0s 670us/step - loss: 168787840.0000 - val_loss: 121509040.0000\n",
      "Epoch 27/50\n",
      "697/697 [==============================] - 0s 664us/step - loss: 168818128.0000 - val_loss: 121553800.0000\n",
      "Epoch 28/50\n",
      "697/697 [==============================] - 0s 634us/step - loss: 168824400.0000 - val_loss: 121511864.0000\n",
      "Epoch 29/50\n",
      "697/697 [==============================] - 0s 637us/step - loss: 168736208.0000 - val_loss: 121667648.0000\n",
      "Epoch 30/50\n",
      "697/697 [==============================] - 0s 661us/step - loss: 168748544.0000 - val_loss: 121699240.0000\n",
      "Epoch 31/50\n",
      "697/697 [==============================] - 0s 640us/step - loss: 168856944.0000 - val_loss: 121414984.0000\n",
      "Epoch 32/50\n",
      "697/697 [==============================] - 0s 641us/step - loss: 168726352.0000 - val_loss: 121473640.0000\n",
      "Epoch 33/50\n",
      "697/697 [==============================] - 0s 634us/step - loss: 168703760.0000 - val_loss: 121436488.0000\n",
      "Epoch 34/50\n",
      "697/697 [==============================] - 0s 660us/step - loss: 168594576.0000 - val_loss: 121536608.0000\n",
      "Epoch 35/50\n",
      "697/697 [==============================] - 0s 622us/step - loss: 168682336.0000 - val_loss: 121552328.0000\n",
      "Epoch 36/50\n",
      "697/697 [==============================] - 0s 641us/step - loss: 168557120.0000 - val_loss: 121475792.0000\n",
      "Epoch 37/50\n",
      "697/697 [==============================] - 0s 632us/step - loss: 168522384.0000 - val_loss: 121509560.0000\n",
      "Epoch 38/50\n",
      "697/697 [==============================] - 0s 631us/step - loss: 168520672.0000 - val_loss: 121565832.0000\n",
      "Epoch 39/50\n",
      "697/697 [==============================] - 0s 646us/step - loss: 168533488.0000 - val_loss: 121743968.0000\n",
      "Epoch 40/50\n",
      "697/697 [==============================] - 0s 630us/step - loss: 168566528.0000 - val_loss: 121440048.0000\n",
      "Epoch 41/50\n",
      "697/697 [==============================] - 0s 637us/step - loss: 168597984.0000 - val_loss: 121514400.0000\n",
      "Epoch 42/50\n",
      "697/697 [==============================] - 0s 712us/step - loss: 168540272.0000 - val_loss: 121492520.0000\n",
      "Epoch 43/50\n",
      "697/697 [==============================] - 1s 726us/step - loss: 168569616.0000 - val_loss: 121476488.0000\n",
      "Epoch 44/50\n",
      "697/697 [==============================] - 0s 640us/step - loss: 168499264.0000 - val_loss: 121327456.0000\n",
      "Epoch 45/50\n",
      "697/697 [==============================] - 1s 723us/step - loss: 168578032.0000 - val_loss: 121540336.0000\n",
      "Epoch 46/50\n",
      "697/697 [==============================] - 0s 651us/step - loss: 168556816.0000 - val_loss: 121404656.0000\n",
      "Epoch 47/50\n",
      "697/697 [==============================] - 0s 657us/step - loss: 168503712.0000 - val_loss: 121481064.0000\n",
      "Epoch 48/50\n",
      "697/697 [==============================] - 0s 694us/step - loss: 168555936.0000 - val_loss: 121490624.0000\n",
      "Epoch 49/50\n",
      "697/697 [==============================] - 0s 651us/step - loss: 168568240.0000 - val_loss: 121384176.0000\n",
      "Epoch 50/50\n",
      "697/697 [==============================] - 0s 624us/step - loss: 168684576.0000 - val_loss: 121311760.0000\n"
     ]
    }
   ],
   "source": [
    "#train\n",
    "model = keras.models.Sequential([\n",
    "    keras.layers.Dense(30, activation=\"sigmoid\", input_shape=X_train.shape[1:]),\n",
    "    keras.layers.Dense(1)\n",
    "])\n",
    "model.compile(loss=\"mean_squared_error\", optimizer=keras.optimizers.SGD(lr=1e-3))\n",
    "history = model.fit(X_train, y_train, epochs=50, validation_data=(X_valid, y_valid))"
   ]
  },
  {
   "cell_type": "code",
   "execution_count": 23,
   "metadata": {},
   "outputs": [
    {
     "output_type": "stream",
     "name": "stdout",
     "text": [
      "233/233 [==============================] - 0s 414us/step - loss: 121311760.0000\n"
     ]
    }
   ],
   "source": [
    "#validate\n",
    "mse_test = model.evaluate(X_valid, y_valid)"
   ]
  },
  {
   "cell_type": "code",
   "execution_count": 24,
   "metadata": {},
   "outputs": [
    {
     "output_type": "stream",
     "name": "stdout",
     "text": [
      "0.024490553983026464\n"
     ]
    }
   ],
   "source": [
    "#test\n",
    "y_pred = model.predict(X_test)\n",
    "print(r2_score(y_test, y_pred))"
   ]
  }
 ],
 "metadata": {
  "kernelspec": {
   "display_name": "Python 3",
   "language": "python",
   "name": "python3"
  },
  "language_info": {
   "codemirror_mode": {
    "name": "ipython",
    "version": 3
   },
   "file_extension": ".py",
   "mimetype": "text/x-python",
   "name": "python",
   "nbconvert_exporter": "python",
   "pygments_lexer": "ipython3",
   "version": "3.8.3-final"
  },
  "nav_menu": {
   "height": "264px",
   "width": "369px"
  },
  "toc": {
   "navigate_menu": true,
   "number_sections": true,
   "sideBar": true,
   "threshold": 6,
   "toc_cell": false,
   "toc_section_display": "block",
   "toc_window_display": false
  }
 },
 "nbformat": 4,
 "nbformat_minor": 4
}